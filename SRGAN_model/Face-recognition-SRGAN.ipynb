{
 "cells": [
  {
   "cell_type": "markdown",
   "metadata": {},
   "source": [
    "Requirement: by Toon\n",
    "\n",
    "1.) install dlib -- from here https://www.youtube.com/watch?v=AUJKdehF2ZA\n",
    "\n",
    "2.) opencv has to be version 4.5.1.48"
   ]
  },
  {
   "cell_type": "code",
   "execution_count": 1,
   "metadata": {},
   "outputs": [],
   "source": [
    "import dlib, cv2,os\n",
    "import matplotlib.pyplot as plt\n",
    "import numpy as np\n",
    "from imutils.face_utils import FaceAligner"
   ]
  },
  {
   "cell_type": "code",
   "execution_count": 2,
   "metadata": {},
   "outputs": [],
   "source": [
    "pose_predictor=dlib.shape_predictor('../FaceReco-master/FaceReco/shape_predictor_68_face_landmarks.dat')\n",
    "fa = FaceAligner(pose_predictor)\n",
    "face_encoder=dlib.face_recognition_model_v1('../FaceReco-master/FaceReco/dlib_face_recognition_resnet_model_v1.dat')\n",
    "detector = dlib.get_frontal_face_detector()\n",
    "modelFile = '../FaceReco-master/FaceReco/opencv_face_detector_uint8.pb'\n",
    "configFile = '../FaceReco-master/FaceReco/opencv_face_detector.pbtxt'\n",
    "net = cv2.dnn.readNetFromTensorflow(modelFile, configFile)"
   ]
  },
  {
   "cell_type": "code",
   "execution_count": 3,
   "metadata": {},
   "outputs": [],
   "source": [
    "faces=[]\n",
    "name=[]\n",
    "trainpath = \"train\""
   ]
  },
  {
   "cell_type": "code",
   "execution_count": 4,
   "metadata": {},
   "outputs": [
    {
     "ename": "FileNotFoundError",
     "evalue": "[WinError 3] The system cannot find the path specified: 'train'",
     "output_type": "error",
     "traceback": [
      "\u001b[1;31m---------------------------------------------------------------------------\u001b[0m",
      "\u001b[1;31mFileNotFoundError\u001b[0m                         Traceback (most recent call last)",
      "\u001b[1;32m<ipython-input-4-46ae0bc34e73>\u001b[0m in \u001b[0;36m<module>\u001b[1;34m\u001b[0m\n\u001b[1;32m----> 1\u001b[1;33m \u001b[1;32mfor\u001b[0m \u001b[0mim\u001b[0m \u001b[1;32min\u001b[0m \u001b[0mos\u001b[0m\u001b[1;33m.\u001b[0m\u001b[0mlistdir\u001b[0m\u001b[1;33m(\u001b[0m\u001b[0mtrainpath\u001b[0m\u001b[1;33m)\u001b[0m\u001b[1;33m:\u001b[0m\u001b[1;33m\u001b[0m\u001b[1;33m\u001b[0m\u001b[0m\n\u001b[0m\u001b[0;32m      2\u001b[0m     \u001b[0mprint\u001b[0m\u001b[1;33m(\u001b[0m\u001b[0mim\u001b[0m\u001b[1;33m)\u001b[0m\u001b[1;33m\u001b[0m\u001b[1;33m\u001b[0m\u001b[0m\n\u001b[0;32m      3\u001b[0m     \u001b[0mimg\u001b[0m \u001b[1;33m=\u001b[0m \u001b[0mcv2\u001b[0m\u001b[1;33m.\u001b[0m\u001b[0mimread\u001b[0m\u001b[1;33m(\u001b[0m\u001b[0mos\u001b[0m\u001b[1;33m.\u001b[0m\u001b[0mpath\u001b[0m\u001b[1;33m.\u001b[0m\u001b[0mjoin\u001b[0m\u001b[1;33m(\u001b[0m\u001b[0mtrainpath\u001b[0m\u001b[1;33m,\u001b[0m\u001b[0mim\u001b[0m\u001b[1;33m)\u001b[0m\u001b[1;33m)\u001b[0m\u001b[1;33m\u001b[0m\u001b[1;33m\u001b[0m\u001b[0m\n\u001b[0;32m      4\u001b[0m     \u001b[0mgray\u001b[0m \u001b[1;33m=\u001b[0m \u001b[0mcv2\u001b[0m\u001b[1;33m.\u001b[0m\u001b[0mcvtColor\u001b[0m\u001b[1;33m(\u001b[0m\u001b[0mimg\u001b[0m\u001b[1;33m,\u001b[0m \u001b[0mcv2\u001b[0m\u001b[1;33m.\u001b[0m\u001b[0mCOLOR_BGR2GRAY\u001b[0m\u001b[1;33m)\u001b[0m\u001b[1;33m\u001b[0m\u001b[1;33m\u001b[0m\u001b[0m\n\u001b[0;32m      5\u001b[0m     \u001b[0mframeHeight\u001b[0m \u001b[1;33m=\u001b[0m \u001b[0mimg\u001b[0m\u001b[1;33m.\u001b[0m\u001b[0mshape\u001b[0m\u001b[1;33m[\u001b[0m\u001b[1;36m0\u001b[0m\u001b[1;33m]\u001b[0m\u001b[1;33m\u001b[0m\u001b[1;33m\u001b[0m\u001b[0m\n",
      "\u001b[1;31mFileNotFoundError\u001b[0m: [WinError 3] The system cannot find the path specified: 'train'"
     ]
    }
   ],
   "source": [
    "for im in os.listdir(trainpath):\n",
    "    print(im)\n",
    "    img = cv2.imread(os.path.join(trainpath,im))\n",
    "    gray = cv2.cvtColor(img, cv2.COLOR_BGR2GRAY)\n",
    "    frameHeight = img.shape[0]\n",
    "    frameWidth = img.shape[1]\n",
    "    blob = cv2.dnn.blobFromImage(img, 1.0, (300, 300), [104, 117,   123], False, False)\n",
    "    net.setInput(blob)\n",
    "    detections = net.forward()\n",
    "    for i in range(detections.shape[2]):\n",
    "        confidence = detections[0, 0, i, 2]\n",
    "        if confidence > 0.7:\n",
    "            x1 = int(detections[0, 0, i, 3] * frameWidth)\n",
    "            y1 = int(detections[0, 0, i, 4] * frameHeight)\n",
    "            x2 = int(detections[0, 0, i, 5] * frameWidth)\n",
    "            y2 = int(detections[0, 0, i, 6] * frameHeight)\n",
    "            faceAligned =fa.align(img, gray,dlib.rectangle(x1,y1,x2,y2))\n",
    "            landmark = pose_predictor(faceAligned,dlib.rectangle(0,0,faceAligned.shape[0],faceAligned.shape[1]))\n",
    "            face_descriptor = face_encoder.compute_face_descriptor(faceAligned, landmark, num_jitters=2)\n",
    "            faces.append(face_descriptor)\n",
    "            name.append(im)"
   ]
  },
  {
   "cell_type": "code",
   "execution_count": null,
   "metadata": {},
   "outputs": [],
   "source": [
    "faces = np.array(faces)\n",
    "name = np.array(name)\n",
    "np.save('face_repr.npy', faces)\n",
    "np.save('labels.npy', name)"
   ]
  },
  {
   "cell_type": "code",
   "execution_count": null,
   "metadata": {},
   "outputs": [],
   "source": [
    "faces = np.load(\"face_repr.npy\")\n",
    "name = np.load(\"labels.npy\")\n",
    "# image = cv2.imread(\"../Test pytorch/Dataset/images/pins_Chris Evans/Chris Evans24_1196.jpg\")\n",
    "# gray = cv2.cvtColor(image, cv2.COLOR_BGR2GRAY)"
   ]
  },
  {
   "cell_type": "code",
   "execution_count": null,
   "metadata": {},
   "outputs": [],
   "source": [
    "# frameHeight = image.shape[0]\n",
    "# frameWidth = image.shape[1]\n",
    "# blob = cv2.dnn.blobFromImage(image, 1.0, (300, 300), [104, 117, 123], False, False)\n",
    "# net.setInput(blob)\n",
    "# detections = net.forward()"
   ]
  },
  {
   "cell_type": "code",
   "execution_count": null,
   "metadata": {},
   "outputs": [],
   "source": [
    "# scores=[]\n",
    "# for i in range(detections.shape[2]):\n",
    "#     confidence = detections[0, 0, i, 2]\n",
    "#     if confidence > 0.7:\n",
    "#         x1 = int(detections[0, 0, i, 3] * frameWidth)\n",
    "#         y1 = int(detections[0, 0, i, 4] * frameHeight)\n",
    "#         x2 = int(detections[0, 0, i, 5] * frameWidth)\n",
    "#         y2 = int(detections[0, 0, i, 6] * frameHeight)\n",
    "#         faceAligned = fa.align(image, gray,dlib.rectangle(x1,y1,x2,y2))\n",
    "#         landmark = pose_predictor(faceAligned,dlib.rectangle(0,0,faceAligned.shape[0],faceAligned.shape[1]))\n",
    "#         face_descriptor = face_encoder.compute_face_descriptor(faceAligned, landmark, num_jitters=2)\n",
    "#         score = np.linalg.norm(faces - np.array(face_descriptor), axis=1)\n",
    "#         scores.append(score)\n",
    "#         imatches = np.argsort(score)\n",
    "#         score = score[imatches]\n",
    "#         print(name[imatches][:10].tolist(), score[:10].tolist())"
   ]
  },
  {
   "cell_type": "code",
   "execution_count": null,
   "metadata": {},
   "outputs": [],
   "source": [
    "def predict(path):\n",
    "    result_name = []    \n",
    "    for file in os.listdir(path):\n",
    "        image = cv2.imread(path +'/'+file)\n",
    "        gray = cv2.cvtColor(image, cv2.COLOR_BGR2GRAY)\n",
    "        frameHeight = image.shape[0]\n",
    "        frameWidth = image.shape[1]\n",
    "        blob = cv2.dnn.blobFromImage(image, 1.0, (300, 300), [104, 117, 123], False, False)\n",
    "        net.setInput(blob)\n",
    "        detections = net.forward()\n",
    "        scores=[]\n",
    "        for i in range(detections.shape[2]):\n",
    "            confidence = detections[0, 0, i, 2]\n",
    "            if confidence > 0.7:\n",
    "                x1 = int(detections[0, 0, i, 3] * frameWidth)\n",
    "                y1 = int(detections[0, 0, i, 4] * frameHeight)\n",
    "                x2 = int(detections[0, 0, i, 5] * frameWidth)\n",
    "                y2 = int(detections[0, 0, i, 6] * frameHeight)\n",
    "                faceAligned = fa.align(image, gray,dlib.rectangle(x1,y1,x2,y2))\n",
    "                landmark = pose_predictor(faceAligned,dlib.rectangle(0,0,faceAligned.shape[0],faceAligned.shape[1]))\n",
    "                face_descriptor = face_encoder.compute_face_descriptor(faceAligned, landmark, num_jitters=2)\n",
    "                score = np.linalg.norm(faces - np.array(face_descriptor), axis=1)\n",
    "                scores.append(score)\n",
    "                imatches = np.argsort(score)\n",
    "                score = score[imatches]\n",
    "                a = name[imatches][:10].tolist()\n",
    "                b = score[:10].tolist()\n",
    "                #print(a,b)\n",
    "                c = name[imatches][0].split(' ')\n",
    "                result_name.append(c[0])\n",
    "                #print(result_name)\n",
    "    return result_name"
   ]
  },
  {
   "cell_type": "code",
   "execution_count": null,
   "metadata": {},
   "outputs": [
    {
     "name": "stdout",
     "output_type": "stream",
     "text": [
      "['Bill Gates8_608.jpg', 'Johnny Depp20_1841.jpg', 'Mark Zuckerberg5_2063.jpg', 'elon musk11_1533.jpg', 'jeff bezos0_2040.jpg', 'Keanu Reeves12_1965.jpg', 'Chris Evans5_1235.jpg', 'Dwayne Johnson10_1558.jpg', 'Emma Watson32_1991.jpg', 'scarlett johansson15_3937.jpg'] [0.5587727405156723, 0.6159557417525423, 0.6347384751560347, 0.6505303915283986, 0.6843857762570372, 0.6982701215358881, 0.7181784988272977, 0.7422483717597987, 0.7638469569491508, 0.9453734287637487]\n",
      "['Bill']\n",
      "['Emma Watson32_1991.jpg', 'Bill Gates8_608.jpg', 'Mark Zuckerberg5_2063.jpg', 'Johnny Depp20_1841.jpg', 'elon musk11_1533.jpg', 'jeff bezos0_2040.jpg', 'Chris Evans5_1235.jpg', 'scarlett johansson15_3937.jpg', 'Keanu Reeves12_1965.jpg', 'Dwayne Johnson10_1558.jpg'] [0.6233227540058246, 0.6486979180517508, 0.6689461026116051, 0.7082404879156053, 0.7422376371921533, 0.7580543923890731, 0.7633715381310457, 0.7853989618408813, 0.7881108598296219, 0.8325254766334546]\n",
      "['Bill', 'Emma']\n",
      "['Bill Gates8_608.jpg', 'Dwayne Johnson10_1558.jpg', 'Keanu Reeves12_1965.jpg', 'Mark Zuckerberg5_2063.jpg', 'Johnny Depp20_1841.jpg', 'elon musk11_1533.jpg', 'jeff bezos0_2040.jpg', 'Chris Evans5_1235.jpg', 'Emma Watson32_1991.jpg', 'scarlett johansson15_3937.jpg'] [0.498233518795606, 0.7114069104426625, 0.7517413215641724, 0.757573762297383, 0.7686733710669392, 0.7744071985298464, 0.7865742720150337, 0.8233558614404948, 0.8961193750893922, 0.9620937844740957]\n",
      "['Bill', 'Emma', 'Bill']\n",
      "['Bill Gates8_608.jpg', 'Mark Zuckerberg5_2063.jpg', 'elon musk11_1533.jpg', 'Johnny Depp20_1841.jpg', 'Chris Evans5_1235.jpg', 'Keanu Reeves12_1965.jpg', 'jeff bezos0_2040.jpg', 'Dwayne Johnson10_1558.jpg', 'Emma Watson32_1991.jpg', 'scarlett johansson15_3937.jpg'] [0.4868166079686457, 0.6422399211495751, 0.7237420313409129, 0.7469296446817765, 0.766352092037699, 0.7680371586189478, 0.7804233370294166, 0.7990189993648665, 0.8114777893236308, 0.9319890342702659]\n",
      "['Bill', 'Emma', 'Bill', 'Bill']\n",
      "['Bill Gates8_608.jpg', 'Johnny Depp20_1841.jpg', 'Chris Evans5_1235.jpg', 'elon musk11_1533.jpg', 'jeff bezos0_2040.jpg', 'Mark Zuckerberg5_2063.jpg', 'Emma Watson32_1991.jpg', 'Keanu Reeves12_1965.jpg', 'Dwayne Johnson10_1558.jpg', 'scarlett johansson15_3937.jpg'] [0.44693008173147986, 0.7040816865153469, 0.7911269992005413, 0.7956345533345577, 0.8073163354525837, 0.8214807863112575, 0.8336655587780998, 0.8393657247419404, 0.8485411775503946, 0.974702252756598]\n",
      "['Bill', 'Emma', 'Bill', 'Bill', 'Bill']\n",
      "['Bill Gates8_608.jpg', 'Mark Zuckerberg5_2063.jpg', 'Johnny Depp20_1841.jpg', 'Keanu Reeves12_1965.jpg', 'elon musk11_1533.jpg', 'Dwayne Johnson10_1558.jpg', 'Chris Evans5_1235.jpg', 'jeff bezos0_2040.jpg', 'Emma Watson32_1991.jpg', 'scarlett johansson15_3937.jpg'] [0.5006229507566862, 0.6862043947537643, 0.7244190959438264, 0.7574499951566424, 0.7659900069965927, 0.7753426606638028, 0.7821137037629633, 0.7909440689647819, 0.8584334082923886, 0.9893621310532442]\n",
      "['Bill', 'Emma', 'Bill', 'Bill', 'Bill', 'Bill']\n",
      "['Bill Gates8_608.jpg', 'Johnny Depp20_1841.jpg', 'Mark Zuckerberg5_2063.jpg', 'elon musk11_1533.jpg', 'jeff bezos0_2040.jpg', 'Keanu Reeves12_1965.jpg', 'Chris Evans5_1235.jpg', 'Dwayne Johnson10_1558.jpg', 'Emma Watson32_1991.jpg', 'scarlett johansson15_3937.jpg'] [0.41291415445801727, 0.7219685183316743, 0.7740208133947466, 0.7759979500977296, 0.7826350423110825, 0.7895937096047964, 0.7912518417957544, 0.8200611233931985, 0.834441140286316, 0.982230089896385]\n",
      "['Bill', 'Emma', 'Bill', 'Bill', 'Bill', 'Bill', 'Bill']\n",
      "['Bill Gates8_608.jpg', 'jeff bezos0_2040.jpg', 'Johnny Depp20_1841.jpg', 'elon musk11_1533.jpg', 'Mark Zuckerberg5_2063.jpg', 'Chris Evans5_1235.jpg', 'Keanu Reeves12_1965.jpg', 'Dwayne Johnson10_1558.jpg', 'Emma Watson32_1991.jpg', 'scarlett johansson15_3937.jpg'] [0.4219688953250169, 0.719543531699311, 0.7250534351484246, 0.7793606561281119, 0.7885172753852615, 0.7914221155505862, 0.7928319132452696, 0.8072720798153135, 0.8267890060188798, 0.9599875992203105]\n",
      "['Bill', 'Emma', 'Bill', 'Bill', 'Bill', 'Bill', 'Bill', 'Bill']\n",
      "['Bill Gates8_608.jpg', 'Keanu Reeves12_1965.jpg', 'Dwayne Johnson10_1558.jpg', 'Johnny Depp20_1841.jpg', 'elon musk11_1533.jpg', 'Mark Zuckerberg5_2063.jpg', 'Chris Evans5_1235.jpg', 'jeff bezos0_2040.jpg', 'Emma Watson32_1991.jpg', 'scarlett johansson15_3937.jpg'] [0.45525115899439195, 0.7457027684115469, 0.7478589866934005, 0.7615363274131648, 0.7774968512561377, 0.8047756583324462, 0.8086764863747393, 0.8405672797805668, 0.8736639215633902, 0.9666513408981787]\n",
      "['Bill', 'Emma', 'Bill', 'Bill', 'Bill', 'Bill', 'Bill', 'Bill', 'Bill']\n",
      "['Bill Gates8_608.jpg', 'Johnny Depp20_1841.jpg', 'Keanu Reeves12_1965.jpg', 'Dwayne Johnson10_1558.jpg', 'elon musk11_1533.jpg', 'Mark Zuckerberg5_2063.jpg', 'jeff bezos0_2040.jpg', 'Chris Evans5_1235.jpg', 'Emma Watson32_1991.jpg', 'scarlett johansson15_3937.jpg'] [0.21153519574899712, 0.7444693522475407, 0.7532608605059798, 0.7659102751638007, 0.7738227869458865, 0.7906101008079499, 0.8071293079780825, 0.8496884574065298, 0.858210892868184, 0.9531317752782159]\n",
      "['Bill', 'Emma', 'Bill', 'Bill', 'Bill', 'Bill', 'Bill', 'Bill', 'Bill', 'Bill']\n",
      "['Chris Evans5_1235.jpg', 'Johnny Depp20_1841.jpg', 'Keanu Reeves12_1965.jpg', 'elon musk11_1533.jpg', 'Emma Watson32_1991.jpg', 'Bill Gates8_608.jpg', 'jeff bezos0_2040.jpg', 'Dwayne Johnson10_1558.jpg', 'Mark Zuckerberg5_2063.jpg', 'scarlett johansson15_3937.jpg'] [0.4339533957247271, 0.6033065258850153, 0.6914821215210516, 0.7969055183060982, 0.8002601248010103, 0.800584982993625, 0.8111345452551734, 0.828196047043051, 0.831797461347754, 0.8970934974392224]\n",
      "['Bill', 'Emma', 'Bill', 'Bill', 'Bill', 'Bill', 'Bill', 'Bill', 'Bill', 'Bill', 'Chris']\n",
      "['Chris Evans5_1235.jpg', 'Johnny Depp20_1841.jpg', 'Keanu Reeves12_1965.jpg', 'jeff bezos0_2040.jpg', 'elon musk11_1533.jpg', 'Dwayne Johnson10_1558.jpg', 'Emma Watson32_1991.jpg', 'Bill Gates8_608.jpg', 'Mark Zuckerberg5_2063.jpg', 'scarlett johansson15_3937.jpg'] [0.33342123208860897, 0.628199495541099, 0.6978583322170057, 0.7641977429126541, 0.7670160230798324, 0.8002336986109911, 0.8066763712407461, 0.8147246141781767, 0.8521069888380641, 0.885249968912791]\n",
      "['Bill', 'Emma', 'Bill', 'Bill', 'Bill', 'Bill', 'Bill', 'Bill', 'Bill', 'Bill', 'Chris', 'Chris']\n",
      "['Chris Evans5_1235.jpg', 'Bill Gates8_608.jpg', 'Johnny Depp20_1841.jpg', 'Keanu Reeves12_1965.jpg', 'Dwayne Johnson10_1558.jpg', 'jeff bezos0_2040.jpg', 'elon musk11_1533.jpg', 'Emma Watson32_1991.jpg', 'Mark Zuckerberg5_2063.jpg', 'scarlett johansson15_3937.jpg'] [0.6169401143270137, 0.6564787856425693, 0.6890260527192041, 0.702494957522073, 0.7493019440430375, 0.7744415605886833, 0.7808771823456172, 0.8314395295787388, 0.8404901883318953, 0.95530760959732]\n",
      "['Bill', 'Emma', 'Bill', 'Bill', 'Bill', 'Bill', 'Bill', 'Bill', 'Bill', 'Bill', 'Chris', 'Chris', 'Chris']\n",
      "['Chris Evans5_1235.jpg', 'Johnny Depp20_1841.jpg', 'Keanu Reeves12_1965.jpg', 'Bill Gates8_608.jpg', 'jeff bezos0_2040.jpg', 'elon musk11_1533.jpg', 'Dwayne Johnson10_1558.jpg', 'Mark Zuckerberg5_2063.jpg', 'Emma Watson32_1991.jpg', 'scarlett johansson15_3937.jpg'] [0.5569880538405476, 0.6685530672255264, 0.7077843700735834, 0.7117088759591236, 0.7448884973382094, 0.745693964145872, 0.7696323171859649, 0.7937268399663614, 0.8678057220185947, 1.003441659973327]\n",
      "['Bill', 'Emma', 'Bill', 'Bill', 'Bill', 'Bill', 'Bill', 'Bill', 'Bill', 'Bill', 'Chris', 'Chris', 'Chris', 'Chris']\n",
      "['Chris Evans5_1235.jpg', 'Johnny Depp20_1841.jpg', 'Keanu Reeves12_1965.jpg', 'jeff bezos0_2040.jpg', 'Dwayne Johnson10_1558.jpg', 'Emma Watson32_1991.jpg', 'Bill Gates8_608.jpg', 'Mark Zuckerberg5_2063.jpg', 'elon musk11_1533.jpg', 'scarlett johansson15_3937.jpg'] [0.5181036075055742, 0.735267299633316, 0.7683942296325935, 0.7937082756559438, 0.800952842901573, 0.8142631056385707, 0.8332351729115904, 0.8498949500784164, 0.9038749288428078, 0.9262569959947416]\n",
      "['Bill', 'Emma', 'Bill', 'Bill', 'Bill', 'Bill', 'Bill', 'Bill', 'Bill', 'Bill', 'Chris', 'Chris', 'Chris', 'Chris', 'Chris']\n",
      "['Chris Evans5_1235.jpg', 'Johnny Depp20_1841.jpg', 'Keanu Reeves12_1965.jpg', 'Dwayne Johnson10_1558.jpg', 'Mark Zuckerberg5_2063.jpg', 'elon musk11_1533.jpg', 'jeff bezos0_2040.jpg', 'Bill Gates8_608.jpg', 'Emma Watson32_1991.jpg', 'scarlett johansson15_3937.jpg'] [0.38478022705840115, 0.631267981210447, 0.7174743554444228, 0.7651693324547622, 0.7831304020488355, 0.7972086664574093, 0.8030398503143181, 0.8104222408730867, 0.8435302440673448, 0.8844938530661215]\n",
      "['Bill', 'Emma', 'Bill', 'Bill', 'Bill', 'Bill', 'Bill', 'Bill', 'Bill', 'Bill', 'Chris', 'Chris', 'Chris', 'Chris', 'Chris', 'Chris']\n",
      "['Chris Evans5_1235.jpg', 'Johnny Depp20_1841.jpg', 'Emma Watson32_1991.jpg', 'Bill Gates8_608.jpg', 'Keanu Reeves12_1965.jpg', 'Mark Zuckerberg5_2063.jpg', 'jeff bezos0_2040.jpg', 'elon musk11_1533.jpg', 'Dwayne Johnson10_1558.jpg', 'scarlett johansson15_3937.jpg'] [0.5342919123754994, 0.5582432647154122, 0.7065715750119974, 0.7245575256186709, 0.7309181250909061, 0.78631704864531, 0.7873170432984274, 0.7996652210698415, 0.8037048996537892, 0.9040753385852001]\n",
      "['Bill', 'Emma', 'Bill', 'Bill', 'Bill', 'Bill', 'Bill', 'Bill', 'Bill', 'Bill', 'Chris', 'Chris', 'Chris', 'Chris', 'Chris', 'Chris', 'Chris']\n",
      "['Chris Evans5_1235.jpg', 'Johnny Depp20_1841.jpg', 'Keanu Reeves12_1965.jpg', 'jeff bezos0_2040.jpg', 'Dwayne Johnson10_1558.jpg', 'elon musk11_1533.jpg', 'Bill Gates8_608.jpg', 'Mark Zuckerberg5_2063.jpg', 'Emma Watson32_1991.jpg', 'scarlett johansson15_3937.jpg'] [0.43956708205760897, 0.6176334451401692, 0.6875117329347964, 0.7327882351329003, 0.7484927303266556, 0.7556916027659607, 0.7958408316451925, 0.8013965896061302, 0.8299099159177235, 0.9239115419864709]\n",
      "['Bill', 'Emma', 'Bill', 'Bill', 'Bill', 'Bill', 'Bill', 'Bill', 'Bill', 'Bill', 'Chris', 'Chris', 'Chris', 'Chris', 'Chris', 'Chris', 'Chris', 'Chris']\n",
      "['Johnny Depp20_1841.jpg', 'Chris Evans5_1235.jpg', 'Dwayne Johnson10_1558.jpg', 'elon musk11_1533.jpg', 'Keanu Reeves12_1965.jpg', 'Bill Gates8_608.jpg', 'Emma Watson32_1991.jpg', 'Mark Zuckerberg5_2063.jpg', 'jeff bezos0_2040.jpg', 'scarlett johansson15_3937.jpg'] [0.6158368110642347, 0.6264690056967337, 0.6949920063062848, 0.7252047238512924, 0.741065262323802, 0.7627351234810198, 0.7879331173042919, 0.7884271570150708, 0.7937026385440612, 0.9165814035870139]\n",
      "['Bill', 'Emma', 'Bill', 'Bill', 'Bill', 'Bill', 'Bill', 'Bill', 'Bill', 'Bill', 'Chris', 'Chris', 'Chris', 'Chris', 'Chris', 'Chris', 'Chris', 'Chris', 'Johnny']\n",
      "['Chris Evans5_1235.jpg', 'Johnny Depp20_1841.jpg', 'elon musk11_1533.jpg', 'Keanu Reeves12_1965.jpg', 'Bill Gates8_608.jpg', 'jeff bezos0_2040.jpg', 'Emma Watson32_1991.jpg', 'Mark Zuckerberg5_2063.jpg', 'Dwayne Johnson10_1558.jpg', 'scarlett johansson15_3937.jpg'] [0.49202835380704507, 0.626683700565311, 0.7671274760270191, 0.7839431434550591, 0.7936570892028665, 0.8130455459252316, 0.8275662612590647, 0.833811741911382, 0.8485012361371669, 0.9688943530772984]\n",
      "['Bill', 'Emma', 'Bill', 'Bill', 'Bill', 'Bill', 'Bill', 'Bill', 'Bill', 'Bill', 'Chris', 'Chris', 'Chris', 'Chris', 'Chris', 'Chris', 'Chris', 'Chris', 'Johnny', 'Chris']\n",
      "['Dwayne Johnson10_1558.jpg', 'Bill Gates8_608.jpg', 'Keanu Reeves12_1965.jpg', 'Mark Zuckerberg5_2063.jpg', 'elon musk11_1533.jpg', 'jeff bezos0_2040.jpg', 'Johnny Depp20_1841.jpg', 'Chris Evans5_1235.jpg', 'scarlett johansson15_3937.jpg', 'Emma Watson32_1991.jpg'] [0.47577321666504857, 0.6095738367083848, 0.6783904568978818, 0.7611494081586341, 0.7633243695030847, 0.7738627984731017, 0.8120654414433344, 0.8554300385823177, 0.9328614706334014, 0.9531485495660299]\n",
      "['Bill', 'Emma', 'Bill', 'Bill', 'Bill', 'Bill', 'Bill', 'Bill', 'Bill', 'Bill', 'Chris', 'Chris', 'Chris', 'Chris', 'Chris', 'Chris', 'Chris', 'Chris', 'Johnny', 'Chris', 'Dwayne']\n",
      "['Dwayne Johnson10_1558.jpg', 'Chris Evans5_1235.jpg', 'Bill Gates8_608.jpg', 'Johnny Depp20_1841.jpg', 'elon musk11_1533.jpg', 'Keanu Reeves12_1965.jpg', 'jeff bezos0_2040.jpg', 'Mark Zuckerberg5_2063.jpg', 'Emma Watson32_1991.jpg', 'scarlett johansson15_3937.jpg'] [0.5275616298120714, 0.7118412937330799, 0.7311669572864772, 0.7493364848145782, 0.7567755059206795, 0.7654643986418982, 0.8104748853082805, 0.8186968665839274, 0.9042308847057576, 0.9543122158121707]\n",
      "['Bill', 'Emma', 'Bill', 'Bill', 'Bill', 'Bill', 'Bill', 'Bill', 'Bill', 'Bill', 'Chris', 'Chris', 'Chris', 'Chris', 'Chris', 'Chris', 'Chris', 'Chris', 'Johnny', 'Chris', 'Dwayne', 'Dwayne']\n",
      "['Dwayne Johnson10_1558.jpg', 'elon musk11_1533.jpg', 'Keanu Reeves12_1965.jpg', 'Bill Gates8_608.jpg', 'jeff bezos0_2040.jpg', 'Chris Evans5_1235.jpg', 'Johnny Depp20_1841.jpg', 'Mark Zuckerberg5_2063.jpg', 'Emma Watson32_1991.jpg', 'scarlett johansson15_3937.jpg'] [0.41848460325980613, 0.6270473288251429, 0.6423963486020274, 0.7099625161529013, 0.7396363244949651, 0.7469877024172145, 0.7490429073368767, 0.7939356235493599, 0.9274648485026944, 0.9320444628119205]\n",
      "['Bill', 'Emma', 'Bill', 'Bill', 'Bill', 'Bill', 'Bill', 'Bill', 'Bill', 'Bill', 'Chris', 'Chris', 'Chris', 'Chris', 'Chris', 'Chris', 'Chris', 'Chris', 'Johnny', 'Chris', 'Dwayne', 'Dwayne', 'Dwayne']\n",
      "['Dwayne Johnson10_1558.jpg', 'Keanu Reeves12_1965.jpg', 'elon musk11_1533.jpg', 'Chris Evans5_1235.jpg', 'Bill Gates8_608.jpg', 'jeff bezos0_2040.jpg', 'Johnny Depp20_1841.jpg', 'Mark Zuckerberg5_2063.jpg', 'scarlett johansson15_3937.jpg', 'Emma Watson32_1991.jpg'] [0.39209985931124924, 0.7209530064581846, 0.7498555523696775, 0.7593617152187457, 0.7614321455047185, 0.7812825248024932, 0.794244304335019, 0.7960180612398736, 0.9577618101101393, 0.9810253073728092]\n",
      "['Bill', 'Emma', 'Bill', 'Bill', 'Bill', 'Bill', 'Bill', 'Bill', 'Bill', 'Bill', 'Chris', 'Chris', 'Chris', 'Chris', 'Chris', 'Chris', 'Chris', 'Chris', 'Johnny', 'Chris', 'Dwayne', 'Dwayne', 'Dwayne', 'Dwayne']\n",
      "['Dwayne Johnson10_1558.jpg', 'Keanu Reeves12_1965.jpg', 'jeff bezos0_2040.jpg', 'elon musk11_1533.jpg', 'Bill Gates8_608.jpg', 'Chris Evans5_1235.jpg', 'Johnny Depp20_1841.jpg', 'Mark Zuckerberg5_2063.jpg', 'scarlett johansson15_3937.jpg', 'Emma Watson32_1991.jpg'] [0.40462581059288244, 0.6928609298733688, 0.7734872586527987, 0.7839529255747719, 0.8187020687732643, 0.8270487631371354, 0.8684492489400676, 0.8771297353711549, 0.9783279403609803, 1.03102932641759]\n",
      "['Bill', 'Emma', 'Bill', 'Bill', 'Bill', 'Bill', 'Bill', 'Bill', 'Bill', 'Bill', 'Chris', 'Chris', 'Chris', 'Chris', 'Chris', 'Chris', 'Chris', 'Chris', 'Johnny', 'Chris', 'Dwayne', 'Dwayne', 'Dwayne', 'Dwayne', 'Dwayne']\n",
      "['Dwayne Johnson10_1558.jpg', 'Keanu Reeves12_1965.jpg', 'elon musk11_1533.jpg', 'Chris Evans5_1235.jpg', 'Johnny Depp20_1841.jpg', 'Bill Gates8_608.jpg', 'Mark Zuckerberg5_2063.jpg', 'jeff bezos0_2040.jpg', 'scarlett johansson15_3937.jpg', 'Emma Watson32_1991.jpg'] [0.4344213893429503, 0.7313772914413025, 0.7445036019404238, 0.788288730886445, 0.8125254322957962, 0.8182141461630943, 0.8306750923603671, 0.8447332075657829, 0.9434101402885284, 0.9625475305348342]\n",
      "['Bill', 'Emma', 'Bill', 'Bill', 'Bill', 'Bill', 'Bill', 'Bill', 'Bill', 'Bill', 'Chris', 'Chris', 'Chris', 'Chris', 'Chris', 'Chris', 'Chris', 'Chris', 'Johnny', 'Chris', 'Dwayne', 'Dwayne', 'Dwayne', 'Dwayne', 'Dwayne', 'Dwayne']\n",
      "['Dwayne Johnson10_1558.jpg', 'Keanu Reeves12_1965.jpg', 'Chris Evans5_1235.jpg', 'elon musk11_1533.jpg', 'Johnny Depp20_1841.jpg', 'Bill Gates8_608.jpg', 'jeff bezos0_2040.jpg', 'Mark Zuckerberg5_2063.jpg', 'scarlett johansson15_3937.jpg', 'Emma Watson32_1991.jpg'] [0.4151500662534894, 0.7052497409576904, 0.7441834148623996, 0.75275727877827, 0.753517196978089, 0.7679434828125136, 0.7900969063161168, 0.8355619465117372, 0.931104055227857, 0.9645880636699644]\n",
      "['Bill', 'Emma', 'Bill', 'Bill', 'Bill', 'Bill', 'Bill', 'Bill', 'Bill', 'Bill', 'Chris', 'Chris', 'Chris', 'Chris', 'Chris', 'Chris', 'Chris', 'Chris', 'Johnny', 'Chris', 'Dwayne', 'Dwayne', 'Dwayne', 'Dwayne', 'Dwayne', 'Dwayne', 'Dwayne']\n",
      "['Dwayne Johnson10_1558.jpg', 'Johnny Depp20_1841.jpg', 'Keanu Reeves12_1965.jpg', 'Bill Gates8_608.jpg', 'elon musk11_1533.jpg', 'Chris Evans5_1235.jpg', 'jeff bezos0_2040.jpg', 'Mark Zuckerberg5_2063.jpg', 'Emma Watson32_1991.jpg', 'scarlett johansson15_3937.jpg'] [0.5098391010705755, 0.6723939076416251, 0.6852930948974116, 0.7050722649801816, 0.7069096486300578, 0.7166612755985488, 0.7996102650344982, 0.8045695789050448, 0.8300258980036711, 0.8893506272607736]\n",
      "['Bill', 'Emma', 'Bill', 'Bill', 'Bill', 'Bill', 'Bill', 'Bill', 'Bill', 'Bill', 'Chris', 'Chris', 'Chris', 'Chris', 'Chris', 'Chris', 'Chris', 'Chris', 'Johnny', 'Chris', 'Dwayne', 'Dwayne', 'Dwayne', 'Dwayne', 'Dwayne', 'Dwayne', 'Dwayne', 'Dwayne']\n",
      "['Dwayne Johnson10_1558.jpg', 'Bill Gates8_608.jpg', 'Keanu Reeves12_1965.jpg', 'elon musk11_1533.jpg', 'Chris Evans5_1235.jpg', 'Johnny Depp20_1841.jpg', 'jeff bezos0_2040.jpg', 'Mark Zuckerberg5_2063.jpg', 'scarlett johansson15_3937.jpg', 'Emma Watson32_1991.jpg'] [0.4114038107454833, 0.7547370900982097, 0.7588103035276816, 0.7866444828180017, 0.8309022295510382, 0.8416116237667628, 0.8459244760217502, 0.8518529163506234, 0.9719124273025913, 1.0066900935333116]\n",
      "['Bill', 'Emma', 'Bill', 'Bill', 'Bill', 'Bill', 'Bill', 'Bill', 'Bill', 'Bill', 'Chris', 'Chris', 'Chris', 'Chris', 'Chris', 'Chris', 'Chris', 'Chris', 'Johnny', 'Chris', 'Dwayne', 'Dwayne', 'Dwayne', 'Dwayne', 'Dwayne', 'Dwayne', 'Dwayne', 'Dwayne', 'Dwayne']\n",
      "['Dwayne Johnson10_1558.jpg', 'Keanu Reeves12_1965.jpg', 'Bill Gates8_608.jpg', 'elon musk11_1533.jpg', 'Chris Evans5_1235.jpg', 'jeff bezos0_2040.jpg', 'Johnny Depp20_1841.jpg', 'Mark Zuckerberg5_2063.jpg', 'Emma Watson32_1991.jpg', 'scarlett johansson15_3937.jpg'] [0.4338750102190748, 0.701235561215619, 0.7110112727337385, 0.7148868396901765, 0.7805431795945172, 0.7870758499003947, 0.7960310568671911, 0.8560551796121207, 0.9365005774311046, 0.9572381359530762]\n",
      "['Bill', 'Emma', 'Bill', 'Bill', 'Bill', 'Bill', 'Bill', 'Bill', 'Bill', 'Bill', 'Chris', 'Chris', 'Chris', 'Chris', 'Chris', 'Chris', 'Chris', 'Chris', 'Johnny', 'Chris', 'Dwayne', 'Dwayne', 'Dwayne', 'Dwayne', 'Dwayne', 'Dwayne', 'Dwayne', 'Dwayne', 'Dwayne', 'Dwayne']\n",
      "['elon musk11_1533.jpg', 'Johnny Depp20_1841.jpg', 'Bill Gates8_608.jpg', 'Keanu Reeves12_1965.jpg', 'jeff bezos0_2040.jpg', 'Chris Evans5_1235.jpg', 'Dwayne Johnson10_1558.jpg', 'Mark Zuckerberg5_2063.jpg', 'Emma Watson32_1991.jpg', 'scarlett johansson15_3937.jpg'] [0.37742065069196734, 0.6799288119944993, 0.6916682849994773, 0.701434878684737, 0.7471604907309228, 0.7753671978798071, 0.8002388391389177, 0.8232267200078522, 0.8799742874468633, 0.9041890220391341]\n",
      "['Bill', 'Emma', 'Bill', 'Bill', 'Bill', 'Bill', 'Bill', 'Bill', 'Bill', 'Bill', 'Chris', 'Chris', 'Chris', 'Chris', 'Chris', 'Chris', 'Chris', 'Chris', 'Johnny', 'Chris', 'Dwayne', 'Dwayne', 'Dwayne', 'Dwayne', 'Dwayne', 'Dwayne', 'Dwayne', 'Dwayne', 'Dwayne', 'Dwayne', 'elon']\n",
      "['elon musk11_1533.jpg', 'Keanu Reeves12_1965.jpg', 'Johnny Depp20_1841.jpg', 'Bill Gates8_608.jpg', 'jeff bezos0_2040.jpg', 'Dwayne Johnson10_1558.jpg', 'Chris Evans5_1235.jpg', 'Mark Zuckerberg5_2063.jpg', 'scarlett johansson15_3937.jpg', 'Emma Watson32_1991.jpg'] [0.43093505047517444, 0.5783621163533939, 0.7121701460568689, 0.7141964674758008, 0.7317053505174156, 0.73620671530736, 0.8033368203117044, 0.849095353684904, 0.8959089824465691, 0.90040036394351]\n",
      "['Bill', 'Emma', 'Bill', 'Bill', 'Bill', 'Bill', 'Bill', 'Bill', 'Bill', 'Bill', 'Chris', 'Chris', 'Chris', 'Chris', 'Chris', 'Chris', 'Chris', 'Chris', 'Johnny', 'Chris', 'Dwayne', 'Dwayne', 'Dwayne', 'Dwayne', 'Dwayne', 'Dwayne', 'Dwayne', 'Dwayne', 'Dwayne', 'Dwayne', 'elon', 'elon']\n",
      "['elon musk11_1533.jpg', 'Keanu Reeves12_1965.jpg', 'Johnny Depp20_1841.jpg', 'Chris Evans5_1235.jpg', 'Dwayne Johnson10_1558.jpg', 'Bill Gates8_608.jpg', 'jeff bezos0_2040.jpg', 'Emma Watson32_1991.jpg', 'Mark Zuckerberg5_2063.jpg', 'scarlett johansson15_3937.jpg'] [0.29343248570250563, 0.6307496029603781, 0.6428754664167842, 0.7399946081173003, 0.7464199111392241, 0.7523312228457483, 0.7587236965161386, 0.8457773864346678, 0.8890653619141651, 0.8998669884524334]\n",
      "['Bill', 'Emma', 'Bill', 'Bill', 'Bill', 'Bill', 'Bill', 'Bill', 'Bill', 'Bill', 'Chris', 'Chris', 'Chris', 'Chris', 'Chris', 'Chris', 'Chris', 'Chris', 'Johnny', 'Chris', 'Dwayne', 'Dwayne', 'Dwayne', 'Dwayne', 'Dwayne', 'Dwayne', 'Dwayne', 'Dwayne', 'Dwayne', 'Dwayne', 'elon', 'elon', 'elon']\n",
      "['elon musk11_1533.jpg', 'Keanu Reeves12_1965.jpg', 'Johnny Depp20_1841.jpg', 'Bill Gates8_608.jpg', 'jeff bezos0_2040.jpg', 'Dwayne Johnson10_1558.jpg', 'Mark Zuckerberg5_2063.jpg', 'Chris Evans5_1235.jpg', 'Emma Watson32_1991.jpg', 'scarlett johansson15_3937.jpg'] [0.42536875346685765, 0.6198353509307242, 0.6678401038320548, 0.7021892260640914, 0.7257910483793673, 0.8146995491563755, 0.8153157522224497, 0.852384639776849, 0.8592167331550739, 0.8999949292188942]\n",
      "['Bill', 'Emma', 'Bill', 'Bill', 'Bill', 'Bill', 'Bill', 'Bill', 'Bill', 'Bill', 'Chris', 'Chris', 'Chris', 'Chris', 'Chris', 'Chris', 'Chris', 'Chris', 'Johnny', 'Chris', 'Dwayne', 'Dwayne', 'Dwayne', 'Dwayne', 'Dwayne', 'Dwayne', 'Dwayne', 'Dwayne', 'Dwayne', 'Dwayne', 'elon', 'elon', 'elon', 'elon']\n",
      "['elon musk11_1533.jpg', 'Keanu Reeves12_1965.jpg', 'Johnny Depp20_1841.jpg', 'Bill Gates8_608.jpg', 'Dwayne Johnson10_1558.jpg', 'jeff bezos0_2040.jpg', 'Chris Evans5_1235.jpg', 'Emma Watson32_1991.jpg', 'Mark Zuckerberg5_2063.jpg', 'scarlett johansson15_3937.jpg'] [0.31199995537237707, 0.616520497240907, 0.7022658994660192, 0.7036911499358646, 0.7522969045662374, 0.7661880160698538, 0.8046975896521559, 0.9117354945357143, 0.9139177650400404, 0.941436827602477]\n",
      "['Bill', 'Emma', 'Bill', 'Bill', 'Bill', 'Bill', 'Bill', 'Bill', 'Bill', 'Bill', 'Chris', 'Chris', 'Chris', 'Chris', 'Chris', 'Chris', 'Chris', 'Chris', 'Johnny', 'Chris', 'Dwayne', 'Dwayne', 'Dwayne', 'Dwayne', 'Dwayne', 'Dwayne', 'Dwayne', 'Dwayne', 'Dwayne', 'Dwayne', 'elon', 'elon', 'elon', 'elon', 'elon']\n",
      "['elon musk11_1533.jpg', 'Keanu Reeves12_1965.jpg', 'Johnny Depp20_1841.jpg', 'jeff bezos0_2040.jpg', 'Dwayne Johnson10_1558.jpg', 'Bill Gates8_608.jpg', 'Chris Evans5_1235.jpg', 'Mark Zuckerberg5_2063.jpg', 'Emma Watson32_1991.jpg', 'scarlett johansson15_3937.jpg'] [0.34560237004040173, 0.604099878774654, 0.7080935149783701, 0.7434573843833212, 0.7564275976975241, 0.7794940816012578, 0.8039011396399168, 0.873538848674358, 0.9109153065556661, 0.9263560003920747]\n",
      "['Bill', 'Emma', 'Bill', 'Bill', 'Bill', 'Bill', 'Bill', 'Bill', 'Bill', 'Bill', 'Chris', 'Chris', 'Chris', 'Chris', 'Chris', 'Chris', 'Chris', 'Chris', 'Johnny', 'Chris', 'Dwayne', 'Dwayne', 'Dwayne', 'Dwayne', 'Dwayne', 'Dwayne', 'Dwayne', 'Dwayne', 'Dwayne', 'Dwayne', 'elon', 'elon', 'elon', 'elon', 'elon', 'elon']\n",
      "['elon musk11_1533.jpg', 'Keanu Reeves12_1965.jpg', 'Johnny Depp20_1841.jpg', 'jeff bezos0_2040.jpg', 'Bill Gates8_608.jpg', 'Dwayne Johnson10_1558.jpg', 'Chris Evans5_1235.jpg', 'Emma Watson32_1991.jpg', 'Mark Zuckerberg5_2063.jpg', 'scarlett johansson15_3937.jpg'] [0.3376790643166474, 0.6876964961450466, 0.688001293520242, 0.7069329916946626, 0.7108527645857284, 0.7410484733071021, 0.7764875424015006, 0.8829551659306226, 0.8876294111074572, 0.9310655369698135]\n",
      "['Bill', 'Emma', 'Bill', 'Bill', 'Bill', 'Bill', 'Bill', 'Bill', 'Bill', 'Bill', 'Chris', 'Chris', 'Chris', 'Chris', 'Chris', 'Chris', 'Chris', 'Chris', 'Johnny', 'Chris', 'Dwayne', 'Dwayne', 'Dwayne', 'Dwayne', 'Dwayne', 'Dwayne', 'Dwayne', 'Dwayne', 'Dwayne', 'Dwayne', 'elon', 'elon', 'elon', 'elon', 'elon', 'elon', 'elon']\n",
      "['elon musk11_1533.jpg', 'Bill Gates8_608.jpg', 'Keanu Reeves12_1965.jpg', 'Johnny Depp20_1841.jpg', 'jeff bezos0_2040.jpg', 'Chris Evans5_1235.jpg', 'Dwayne Johnson10_1558.jpg', 'Mark Zuckerberg5_2063.jpg', 'Emma Watson32_1991.jpg', 'scarlett johansson15_3937.jpg'] [0.419560619860492, 0.6785234525581244, 0.7088377332893718, 0.7104957871448293, 0.7674439777760879, 0.7970040987979973, 0.8174311623033519, 0.8608444567447477, 0.9265207902653182, 0.9491860696037907]\n",
      "['Bill', 'Emma', 'Bill', 'Bill', 'Bill', 'Bill', 'Bill', 'Bill', 'Bill', 'Bill', 'Chris', 'Chris', 'Chris', 'Chris', 'Chris', 'Chris', 'Chris', 'Chris', 'Johnny', 'Chris', 'Dwayne', 'Dwayne', 'Dwayne', 'Dwayne', 'Dwayne', 'Dwayne', 'Dwayne', 'Dwayne', 'Dwayne', 'Dwayne', 'elon', 'elon', 'elon', 'elon', 'elon', 'elon', 'elon', 'elon']\n",
      "['elon musk11_1533.jpg', 'Johnny Depp20_1841.jpg', 'Bill Gates8_608.jpg', 'Keanu Reeves12_1965.jpg', 'jeff bezos0_2040.jpg', 'Dwayne Johnson10_1558.jpg', 'Chris Evans5_1235.jpg', 'Emma Watson32_1991.jpg', 'Mark Zuckerberg5_2063.jpg', 'scarlett johansson15_3937.jpg'] [0.3171722182759757, 0.7030711959214723, 0.705049301803654, 0.7067087001468704, 0.7303331584596972, 0.8105215812183693, 0.825759983867579, 0.8975651962062318, 0.9026777408839595, 0.9406885970503895]\n",
      "['Bill', 'Emma', 'Bill', 'Bill', 'Bill', 'Bill', 'Bill', 'Bill', 'Bill', 'Bill', 'Chris', 'Chris', 'Chris', 'Chris', 'Chris', 'Chris', 'Chris', 'Chris', 'Johnny', 'Chris', 'Dwayne', 'Dwayne', 'Dwayne', 'Dwayne', 'Dwayne', 'Dwayne', 'Dwayne', 'Dwayne', 'Dwayne', 'Dwayne', 'elon', 'elon', 'elon', 'elon', 'elon', 'elon', 'elon', 'elon', 'elon']\n",
      "['Bill Gates8_608.jpg', 'jeff bezos0_2040.jpg', 'Dwayne Johnson10_1558.jpg', 'Mark Zuckerberg5_2063.jpg', 'elon musk11_1533.jpg', 'Johnny Depp20_1841.jpg', 'Keanu Reeves12_1965.jpg', 'Chris Evans5_1235.jpg', 'Emma Watson32_1991.jpg', 'scarlett johansson15_3937.jpg'] [0.6330826229867142, 0.7024355531910429, 0.7453985729535807, 0.7571612338838706, 0.7675425970708124, 0.7884602234346222, 0.7923658162855938, 0.8480211754305379, 0.871513790059603, 0.8988892917778578]\n",
      "['Bill', 'Emma', 'Bill', 'Bill', 'Bill', 'Bill', 'Bill', 'Bill', 'Bill', 'Bill', 'Chris', 'Chris', 'Chris', 'Chris', 'Chris', 'Chris', 'Chris', 'Chris', 'Johnny', 'Chris', 'Dwayne', 'Dwayne', 'Dwayne', 'Dwayne', 'Dwayne', 'Dwayne', 'Dwayne', 'Dwayne', 'Dwayne', 'Dwayne', 'elon', 'elon', 'elon', 'elon', 'elon', 'elon', 'elon', 'elon', 'elon', 'Bill']\n",
      "['Emma Watson32_1991.jpg', 'Johnny Depp20_1841.jpg', 'scarlett johansson15_3937.jpg', 'Keanu Reeves12_1965.jpg', 'Chris Evans5_1235.jpg', 'Bill Gates8_608.jpg', 'elon musk11_1533.jpg', 'Mark Zuckerberg5_2063.jpg', 'jeff bezos0_2040.jpg', 'Dwayne Johnson10_1558.jpg'] [0.5162765601579039, 0.6925498878705125, 0.7784679894545948, 0.7986012464367098, 0.8050946822654658, 0.8087461970110513, 0.8814782319468265, 0.8907097152188469, 0.8990183178876853, 0.9274561829203035]\n",
      "['Bill', 'Emma', 'Bill', 'Bill', 'Bill', 'Bill', 'Bill', 'Bill', 'Bill', 'Bill', 'Chris', 'Chris', 'Chris', 'Chris', 'Chris', 'Chris', 'Chris', 'Chris', 'Johnny', 'Chris', 'Dwayne', 'Dwayne', 'Dwayne', 'Dwayne', 'Dwayne', 'Dwayne', 'Dwayne', 'Dwayne', 'Dwayne', 'Dwayne', 'elon', 'elon', 'elon', 'elon', 'elon', 'elon', 'elon', 'elon', 'elon', 'Bill', 'Emma']\n",
      "['Emma Watson32_1991.jpg', 'Johnny Depp20_1841.jpg', 'scarlett johansson15_3937.jpg', 'Keanu Reeves12_1965.jpg', 'Bill Gates8_608.jpg', 'jeff bezos0_2040.jpg', 'Chris Evans5_1235.jpg', 'Mark Zuckerberg5_2063.jpg', 'elon musk11_1533.jpg', 'Dwayne Johnson10_1558.jpg'] [0.5461715159679398, 0.7123848718543879, 0.7404162191664666, 0.7743164367648511, 0.8084157332961407, 0.8343032849048129, 0.8463222104765157, 0.8848321454041865, 0.8926266129039572, 0.9138559226962502]\n",
      "['Bill', 'Emma', 'Bill', 'Bill', 'Bill', 'Bill', 'Bill', 'Bill', 'Bill', 'Bill', 'Chris', 'Chris', 'Chris', 'Chris', 'Chris', 'Chris', 'Chris', 'Chris', 'Johnny', 'Chris', 'Dwayne', 'Dwayne', 'Dwayne', 'Dwayne', 'Dwayne', 'Dwayne', 'Dwayne', 'Dwayne', 'Dwayne', 'Dwayne', 'elon', 'elon', 'elon', 'elon', 'elon', 'elon', 'elon', 'elon', 'elon', 'Bill', 'Emma', 'Emma']\n",
      "['Emma Watson32_1991.jpg', 'Johnny Depp20_1841.jpg', 'scarlett johansson15_3937.jpg', 'Keanu Reeves12_1965.jpg', 'Chris Evans5_1235.jpg', 'Bill Gates8_608.jpg', 'jeff bezos0_2040.jpg', 'elon musk11_1533.jpg', 'Dwayne Johnson10_1558.jpg', 'Mark Zuckerberg5_2063.jpg'] [0.4574366923099112, 0.7015075359407045, 0.7243082502720659, 0.8150022633627114, 0.8459035933578647, 0.8647360793832731, 0.8989549334180461, 0.9175920301254071, 0.9322435891277427, 0.9668547225497414]\n",
      "['Bill', 'Emma', 'Bill', 'Bill', 'Bill', 'Bill', 'Bill', 'Bill', 'Bill', 'Bill', 'Chris', 'Chris', 'Chris', 'Chris', 'Chris', 'Chris', 'Chris', 'Chris', 'Johnny', 'Chris', 'Dwayne', 'Dwayne', 'Dwayne', 'Dwayne', 'Dwayne', 'Dwayne', 'Dwayne', 'Dwayne', 'Dwayne', 'Dwayne', 'elon', 'elon', 'elon', 'elon', 'elon', 'elon', 'elon', 'elon', 'elon', 'Bill', 'Emma', 'Emma', 'Emma']\n",
      "['Bill Gates8_608.jpg', 'jeff bezos0_2040.jpg', 'Keanu Reeves12_1965.jpg', 'Dwayne Johnson10_1558.jpg', 'Mark Zuckerberg5_2063.jpg', 'Chris Evans5_1235.jpg', 'Johnny Depp20_1841.jpg', 'elon musk11_1533.jpg', 'Emma Watson32_1991.jpg', 'scarlett johansson15_3937.jpg'] [0.6389590437015868, 0.6457034837462994, 0.6579990757353018, 0.6745473876369668, 0.6850419722577685, 0.6897332411579709, 0.6941876691842817, 0.7283812208533312, 0.7690392543113045, 0.8469462190890363]\n",
      "['Bill', 'Emma', 'Bill', 'Bill', 'Bill', 'Bill', 'Bill', 'Bill', 'Bill', 'Bill', 'Chris', 'Chris', 'Chris', 'Chris', 'Chris', 'Chris', 'Chris', 'Chris', 'Johnny', 'Chris', 'Dwayne', 'Dwayne', 'Dwayne', 'Dwayne', 'Dwayne', 'Dwayne', 'Dwayne', 'Dwayne', 'Dwayne', 'Dwayne', 'elon', 'elon', 'elon', 'elon', 'elon', 'elon', 'elon', 'elon', 'elon', 'Bill', 'Emma', 'Emma', 'Emma', 'Bill']\n",
      "['Emma Watson32_1991.jpg', 'Johnny Depp20_1841.jpg', 'scarlett johansson15_3937.jpg', 'Mark Zuckerberg5_2063.jpg', 'jeff bezos0_2040.jpg', 'Bill Gates8_608.jpg', 'elon musk11_1533.jpg', 'Chris Evans5_1235.jpg', 'Keanu Reeves12_1965.jpg', 'Dwayne Johnson10_1558.jpg'] [0.5802895218883947, 0.7351351339447012, 0.7607868544989002, 0.7732327911174297, 0.8147665425814934, 0.8216782842997344, 0.8386669691112283, 0.8481660364879788, 0.8706983631066854, 0.9357737838920308]\n",
      "['Bill', 'Emma', 'Bill', 'Bill', 'Bill', 'Bill', 'Bill', 'Bill', 'Bill', 'Bill', 'Chris', 'Chris', 'Chris', 'Chris', 'Chris', 'Chris', 'Chris', 'Chris', 'Johnny', 'Chris', 'Dwayne', 'Dwayne', 'Dwayne', 'Dwayne', 'Dwayne', 'Dwayne', 'Dwayne', 'Dwayne', 'Dwayne', 'Dwayne', 'elon', 'elon', 'elon', 'elon', 'elon', 'elon', 'elon', 'elon', 'elon', 'Bill', 'Emma', 'Emma', 'Emma', 'Bill', 'Emma']\n",
      "['Emma Watson32_1991.jpg', 'Johnny Depp20_1841.jpg', 'Chris Evans5_1235.jpg', 'elon musk11_1533.jpg', 'Keanu Reeves12_1965.jpg', 'Bill Gates8_608.jpg', 'scarlett johansson15_3937.jpg', 'jeff bezos0_2040.jpg', 'Dwayne Johnson10_1558.jpg', 'Mark Zuckerberg5_2063.jpg'] [0.5559439490959871, 0.5990471552203432, 0.7002003957486497, 0.717080810315557, 0.7419531685906107, 0.7624766367139946, 0.7870499401987879, 0.8447509244281531, 0.8742557715170035, 0.914171185750951]\n",
      "['Bill', 'Emma', 'Bill', 'Bill', 'Bill', 'Bill', 'Bill', 'Bill', 'Bill', 'Bill', 'Chris', 'Chris', 'Chris', 'Chris', 'Chris', 'Chris', 'Chris', 'Chris', 'Johnny', 'Chris', 'Dwayne', 'Dwayne', 'Dwayne', 'Dwayne', 'Dwayne', 'Dwayne', 'Dwayne', 'Dwayne', 'Dwayne', 'Dwayne', 'elon', 'elon', 'elon', 'elon', 'elon', 'elon', 'elon', 'elon', 'elon', 'Bill', 'Emma', 'Emma', 'Emma', 'Bill', 'Emma', 'Emma']\n",
      "['Emma Watson32_1991.jpg', 'scarlett johansson15_3937.jpg', 'Johnny Depp20_1841.jpg', 'Bill Gates8_608.jpg', 'elon musk11_1533.jpg', 'Chris Evans5_1235.jpg', 'Keanu Reeves12_1965.jpg', 'Mark Zuckerberg5_2063.jpg', 'jeff bezos0_2040.jpg', 'Dwayne Johnson10_1558.jpg'] [0.4928168763008521, 0.6679466561716779, 0.7212422481204026, 0.8199760426416731, 0.8726072018290563, 0.8907492181870166, 0.9085495379372528, 0.9126356169149392, 0.9488876592711081, 0.9772291217388792]\n",
      "['Bill', 'Emma', 'Bill', 'Bill', 'Bill', 'Bill', 'Bill', 'Bill', 'Bill', 'Bill', 'Chris', 'Chris', 'Chris', 'Chris', 'Chris', 'Chris', 'Chris', 'Chris', 'Johnny', 'Chris', 'Dwayne', 'Dwayne', 'Dwayne', 'Dwayne', 'Dwayne', 'Dwayne', 'Dwayne', 'Dwayne', 'Dwayne', 'Dwayne', 'elon', 'elon', 'elon', 'elon', 'elon', 'elon', 'elon', 'elon', 'elon', 'Bill', 'Emma', 'Emma', 'Emma', 'Bill', 'Emma', 'Emma', 'Emma']\n",
      "['Emma Watson32_1991.jpg', 'scarlett johansson15_3937.jpg', 'Johnny Depp20_1841.jpg', 'Chris Evans5_1235.jpg', 'Keanu Reeves12_1965.jpg', 'Mark Zuckerberg5_2063.jpg', 'Bill Gates8_608.jpg', 'elon musk11_1533.jpg', 'jeff bezos0_2040.jpg', 'Dwayne Johnson10_1558.jpg'] [0.46914145362917004, 0.7321699544446231, 0.7537411901451336, 0.8300987574846886, 0.8450038800466522, 0.8466997366584793, 0.8874588690184989, 0.8903737617019093, 0.8953063110282522, 0.9381644147824125]\n",
      "['Bill', 'Emma', 'Bill', 'Bill', 'Bill', 'Bill', 'Bill', 'Bill', 'Bill', 'Bill', 'Chris', 'Chris', 'Chris', 'Chris', 'Chris', 'Chris', 'Chris', 'Chris', 'Johnny', 'Chris', 'Dwayne', 'Dwayne', 'Dwayne', 'Dwayne', 'Dwayne', 'Dwayne', 'Dwayne', 'Dwayne', 'Dwayne', 'Dwayne', 'elon', 'elon', 'elon', 'elon', 'elon', 'elon', 'elon', 'elon', 'elon', 'Bill', 'Emma', 'Emma', 'Emma', 'Bill', 'Emma', 'Emma', 'Emma', 'Emma']\n",
      "['Emma Watson32_1991.jpg', 'Johnny Depp20_1841.jpg', 'scarlett johansson15_3937.jpg', 'Chris Evans5_1235.jpg', 'Keanu Reeves12_1965.jpg', 'Bill Gates8_608.jpg', 'Mark Zuckerberg5_2063.jpg', 'jeff bezos0_2040.jpg', 'elon musk11_1533.jpg', 'Dwayne Johnson10_1558.jpg'] [0.43071356986054504, 0.7325219225959643, 0.7394784126755287, 0.7803902343364446, 0.8338342422183983, 0.8493845061826337, 0.8641206185193749, 0.8679381943389904, 0.8851798618404857, 0.9552806785539024]\n",
      "['Bill', 'Emma', 'Bill', 'Bill', 'Bill', 'Bill', 'Bill', 'Bill', 'Bill', 'Bill', 'Chris', 'Chris', 'Chris', 'Chris', 'Chris', 'Chris', 'Chris', 'Chris', 'Johnny', 'Chris', 'Dwayne', 'Dwayne', 'Dwayne', 'Dwayne', 'Dwayne', 'Dwayne', 'Dwayne', 'Dwayne', 'Dwayne', 'Dwayne', 'elon', 'elon', 'elon', 'elon', 'elon', 'elon', 'elon', 'elon', 'elon', 'Bill', 'Emma', 'Emma', 'Emma', 'Bill', 'Emma', 'Emma', 'Emma', 'Emma', 'Emma']\n",
      "['Emma Watson32_1991.jpg', 'scarlett johansson15_3937.jpg', 'Johnny Depp20_1841.jpg', 'Keanu Reeves12_1965.jpg', 'Chris Evans5_1235.jpg', 'Bill Gates8_608.jpg', 'elon musk11_1533.jpg', 'Dwayne Johnson10_1558.jpg', 'jeff bezos0_2040.jpg', 'Mark Zuckerberg5_2063.jpg'] [0.4995394515102857, 0.7081676508302369, 0.7846274446576955, 0.8442912010145102, 0.8500601255764396, 0.8825140620178584, 0.9069343797046273, 0.9306513876204373, 0.9652045350342161, 1.0059754947709911]\n",
      "['Bill', 'Emma', 'Bill', 'Bill', 'Bill', 'Bill', 'Bill', 'Bill', 'Bill', 'Bill', 'Chris', 'Chris', 'Chris', 'Chris', 'Chris', 'Chris', 'Chris', 'Chris', 'Johnny', 'Chris', 'Dwayne', 'Dwayne', 'Dwayne', 'Dwayne', 'Dwayne', 'Dwayne', 'Dwayne', 'Dwayne', 'Dwayne', 'Dwayne', 'elon', 'elon', 'elon', 'elon', 'elon', 'elon', 'elon', 'elon', 'elon', 'Bill', 'Emma', 'Emma', 'Emma', 'Bill', 'Emma', 'Emma', 'Emma', 'Emma', 'Emma', 'Emma']\n",
      "['jeff bezos0_2040.jpg', 'Bill Gates8_608.jpg', 'elon musk11_1533.jpg', 'Mark Zuckerberg5_2063.jpg', 'Keanu Reeves12_1965.jpg', 'Dwayne Johnson10_1558.jpg', 'Johnny Depp20_1841.jpg', 'Chris Evans5_1235.jpg', 'Emma Watson32_1991.jpg', 'scarlett johansson15_3937.jpg'] [0.45010776453658824, 0.6534577115000048, 0.7086908561289595, 0.7266014903572748, 0.7634265645043298, 0.7684213552172081, 0.793775101306814, 0.83654659011668, 0.9476500733085785, 0.9918780711235764]\n",
      "['Bill', 'Emma', 'Bill', 'Bill', 'Bill', 'Bill', 'Bill', 'Bill', 'Bill', 'Bill', 'Chris', 'Chris', 'Chris', 'Chris', 'Chris', 'Chris', 'Chris', 'Chris', 'Johnny', 'Chris', 'Dwayne', 'Dwayne', 'Dwayne', 'Dwayne', 'Dwayne', 'Dwayne', 'Dwayne', 'Dwayne', 'Dwayne', 'Dwayne', 'elon', 'elon', 'elon', 'elon', 'elon', 'elon', 'elon', 'elon', 'elon', 'Bill', 'Emma', 'Emma', 'Emma', 'Bill', 'Emma', 'Emma', 'Emma', 'Emma', 'Emma', 'Emma', 'jeff']\n",
      "['jeff bezos0_2040.jpg', 'Mark Zuckerberg5_2063.jpg', 'Bill Gates8_608.jpg', 'Dwayne Johnson10_1558.jpg', 'elon musk11_1533.jpg', 'Chris Evans5_1235.jpg', 'Keanu Reeves12_1965.jpg', 'Johnny Depp20_1841.jpg', 'Emma Watson32_1991.jpg', 'scarlett johansson15_3937.jpg'] [0.48798226066695616, 0.6492188583357159, 0.7033836431819247, 0.7326158169175726, 0.7518642336198076, 0.8390669238929932, 0.8631843322571686, 0.8693334946633037, 0.9291800272678362, 1.0203280206725454]\n",
      "['Bill', 'Emma', 'Bill', 'Bill', 'Bill', 'Bill', 'Bill', 'Bill', 'Bill', 'Bill', 'Chris', 'Chris', 'Chris', 'Chris', 'Chris', 'Chris', 'Chris', 'Chris', 'Johnny', 'Chris', 'Dwayne', 'Dwayne', 'Dwayne', 'Dwayne', 'Dwayne', 'Dwayne', 'Dwayne', 'Dwayne', 'Dwayne', 'Dwayne', 'elon', 'elon', 'elon', 'elon', 'elon', 'elon', 'elon', 'elon', 'elon', 'Bill', 'Emma', 'Emma', 'Emma', 'Bill', 'Emma', 'Emma', 'Emma', 'Emma', 'Emma', 'Emma', 'jeff', 'jeff']\n",
      "['jeff bezos0_2040.jpg', 'elon musk11_1533.jpg', 'Keanu Reeves12_1965.jpg', 'Mark Zuckerberg5_2063.jpg', 'Johnny Depp20_1841.jpg', 'Dwayne Johnson10_1558.jpg', 'Bill Gates8_608.jpg', 'Chris Evans5_1235.jpg', 'Emma Watson32_1991.jpg', 'scarlett johansson15_3937.jpg'] [0.4150746631568225, 0.7086995525069723, 0.7428055854755001, 0.7718732918766469, 0.7735641373610063, 0.7864840007125342, 0.8026602371885763, 0.8363797812854313, 0.8908936610278844, 0.9000723722777546]\n",
      "['Bill', 'Emma', 'Bill', 'Bill', 'Bill', 'Bill', 'Bill', 'Bill', 'Bill', 'Bill', 'Chris', 'Chris', 'Chris', 'Chris', 'Chris', 'Chris', 'Chris', 'Chris', 'Johnny', 'Chris', 'Dwayne', 'Dwayne', 'Dwayne', 'Dwayne', 'Dwayne', 'Dwayne', 'Dwayne', 'Dwayne', 'Dwayne', 'Dwayne', 'elon', 'elon', 'elon', 'elon', 'elon', 'elon', 'elon', 'elon', 'elon', 'Bill', 'Emma', 'Emma', 'Emma', 'Bill', 'Emma', 'Emma', 'Emma', 'Emma', 'Emma', 'Emma', 'jeff', 'jeff', 'jeff']\n",
      "['jeff bezos0_2040.jpg', 'elon musk11_1533.jpg', 'Johnny Depp20_1841.jpg', 'Bill Gates8_608.jpg', 'Keanu Reeves12_1965.jpg', 'Chris Evans5_1235.jpg', 'Mark Zuckerberg5_2063.jpg', 'Dwayne Johnson10_1558.jpg', 'Emma Watson32_1991.jpg', 'scarlett johansson15_3937.jpg'] [0.38878336926460205, 0.7807623571205955, 0.798976124101304, 0.8196239607399981, 0.8264169171346186, 0.8303276183211362, 0.8308009233437849, 0.8424235068804167, 0.8881870758160857, 0.9262767411203184]\n",
      "['Bill', 'Emma', 'Bill', 'Bill', 'Bill', 'Bill', 'Bill', 'Bill', 'Bill', 'Bill', 'Chris', 'Chris', 'Chris', 'Chris', 'Chris', 'Chris', 'Chris', 'Chris', 'Johnny', 'Chris', 'Dwayne', 'Dwayne', 'Dwayne', 'Dwayne', 'Dwayne', 'Dwayne', 'Dwayne', 'Dwayne', 'Dwayne', 'Dwayne', 'elon', 'elon', 'elon', 'elon', 'elon', 'elon', 'elon', 'elon', 'elon', 'Bill', 'Emma', 'Emma', 'Emma', 'Bill', 'Emma', 'Emma', 'Emma', 'Emma', 'Emma', 'Emma', 'jeff', 'jeff', 'jeff', 'jeff']\n",
      "['jeff bezos0_2040.jpg', 'elon musk11_1533.jpg', 'Mark Zuckerberg5_2063.jpg', 'Dwayne Johnson10_1558.jpg', 'Bill Gates8_608.jpg', 'Keanu Reeves12_1965.jpg', 'Chris Evans5_1235.jpg', 'Johnny Depp20_1841.jpg', 'Emma Watson32_1991.jpg', 'scarlett johansson15_3937.jpg'] [0.3858901613976238, 0.7335163416216545, 0.7375454080225204, 0.7434239013948253, 0.7591425764006069, 0.7842358247233837, 0.7975870036919565, 0.8042651956620773, 0.9002918440711608, 0.9946393045434999]\n",
      "['Bill', 'Emma', 'Bill', 'Bill', 'Bill', 'Bill', 'Bill', 'Bill', 'Bill', 'Bill', 'Chris', 'Chris', 'Chris', 'Chris', 'Chris', 'Chris', 'Chris', 'Chris', 'Johnny', 'Chris', 'Dwayne', 'Dwayne', 'Dwayne', 'Dwayne', 'Dwayne', 'Dwayne', 'Dwayne', 'Dwayne', 'Dwayne', 'Dwayne', 'elon', 'elon', 'elon', 'elon', 'elon', 'elon', 'elon', 'elon', 'elon', 'Bill', 'Emma', 'Emma', 'Emma', 'Bill', 'Emma', 'Emma', 'Emma', 'Emma', 'Emma', 'Emma', 'jeff', 'jeff', 'jeff', 'jeff', 'jeff']\n",
      "['jeff bezos0_2040.jpg', 'Mark Zuckerberg5_2063.jpg', 'Dwayne Johnson10_1558.jpg', 'elon musk11_1533.jpg', 'Bill Gates8_608.jpg', 'Johnny Depp20_1841.jpg', 'Chris Evans5_1235.jpg', 'Keanu Reeves12_1965.jpg', 'Emma Watson32_1991.jpg', 'scarlett johansson15_3937.jpg'] [0.40013989144615214, 0.6978153985182576, 0.750256219083073, 0.7585233715104894, 0.7599461230039047, 0.7773419765170339, 0.7874931693573949, 0.7992499880876538, 0.8643641571349604, 0.9317759353099282]\n",
      "['Bill', 'Emma', 'Bill', 'Bill', 'Bill', 'Bill', 'Bill', 'Bill', 'Bill', 'Bill', 'Chris', 'Chris', 'Chris', 'Chris', 'Chris', 'Chris', 'Chris', 'Chris', 'Johnny', 'Chris', 'Dwayne', 'Dwayne', 'Dwayne', 'Dwayne', 'Dwayne', 'Dwayne', 'Dwayne', 'Dwayne', 'Dwayne', 'Dwayne', 'elon', 'elon', 'elon', 'elon', 'elon', 'elon', 'elon', 'elon', 'elon', 'Bill', 'Emma', 'Emma', 'Emma', 'Bill', 'Emma', 'Emma', 'Emma', 'Emma', 'Emma', 'Emma', 'jeff', 'jeff', 'jeff', 'jeff', 'jeff', 'jeff']\n",
      "['jeff bezos0_2040.jpg', 'Dwayne Johnson10_1558.jpg', 'Keanu Reeves12_1965.jpg', 'elon musk11_1533.jpg', 'Johnny Depp20_1841.jpg', 'Bill Gates8_608.jpg', 'Chris Evans5_1235.jpg', 'Mark Zuckerberg5_2063.jpg', 'Emma Watson32_1991.jpg', 'scarlett johansson15_3937.jpg'] [0.5006195998281676, 0.6545535177107927, 0.6717049635219176, 0.6771631860968071, 0.6781583749843594, 0.7053191028721255, 0.7661861486597408, 0.7897764584796829, 0.8097099326125693, 0.8604470176920466]\n",
      "['Bill', 'Emma', 'Bill', 'Bill', 'Bill', 'Bill', 'Bill', 'Bill', 'Bill', 'Bill', 'Chris', 'Chris', 'Chris', 'Chris', 'Chris', 'Chris', 'Chris', 'Chris', 'Johnny', 'Chris', 'Dwayne', 'Dwayne', 'Dwayne', 'Dwayne', 'Dwayne', 'Dwayne', 'Dwayne', 'Dwayne', 'Dwayne', 'Dwayne', 'elon', 'elon', 'elon', 'elon', 'elon', 'elon', 'elon', 'elon', 'elon', 'Bill', 'Emma', 'Emma', 'Emma', 'Bill', 'Emma', 'Emma', 'Emma', 'Emma', 'Emma', 'Emma', 'jeff', 'jeff', 'jeff', 'jeff', 'jeff', 'jeff', 'jeff']\n",
      "['jeff bezos0_2040.jpg', 'Bill Gates8_608.jpg', 'Mark Zuckerberg5_2063.jpg', 'elon musk11_1533.jpg', 'Dwayne Johnson10_1558.jpg', 'Keanu Reeves12_1965.jpg', 'Chris Evans5_1235.jpg', 'Johnny Depp20_1841.jpg', 'Emma Watson32_1991.jpg', 'scarlett johansson15_3937.jpg'] [0.2934757565156385, 0.7552590552437216, 0.7710488718563704, 0.787850321209862, 0.8042644998313012, 0.8219499494138582, 0.8335588718592528, 0.8518974816328417, 0.9369401732898145, 1.0154019490788153]\n",
      "['Bill', 'Emma', 'Bill', 'Bill', 'Bill', 'Bill', 'Bill', 'Bill', 'Bill', 'Bill', 'Chris', 'Chris', 'Chris', 'Chris', 'Chris', 'Chris', 'Chris', 'Chris', 'Johnny', 'Chris', 'Dwayne', 'Dwayne', 'Dwayne', 'Dwayne', 'Dwayne', 'Dwayne', 'Dwayne', 'Dwayne', 'Dwayne', 'Dwayne', 'elon', 'elon', 'elon', 'elon', 'elon', 'elon', 'elon', 'elon', 'elon', 'Bill', 'Emma', 'Emma', 'Emma', 'Bill', 'Emma', 'Emma', 'Emma', 'Emma', 'Emma', 'Emma', 'jeff', 'jeff', 'jeff', 'jeff', 'jeff', 'jeff', 'jeff', 'jeff']\n",
      "['jeff bezos0_2040.jpg', 'Mark Zuckerberg5_2063.jpg', 'Bill Gates8_608.jpg', 'elon musk11_1533.jpg', 'Dwayne Johnson10_1558.jpg', 'Johnny Depp20_1841.jpg', 'Keanu Reeves12_1965.jpg', 'Chris Evans5_1235.jpg', 'Emma Watson32_1991.jpg', 'scarlett johansson15_3937.jpg'] [0.3626421421609552, 0.7023414710710115, 0.7559989821091876, 0.7624823318032041, 0.8247215231146965, 0.8273234541348957, 0.8329014499945996, 0.8966236122469982, 0.9103606817641536, 0.9996385385155877]\n",
      "['Bill', 'Emma', 'Bill', 'Bill', 'Bill', 'Bill', 'Bill', 'Bill', 'Bill', 'Bill', 'Chris', 'Chris', 'Chris', 'Chris', 'Chris', 'Chris', 'Chris', 'Chris', 'Johnny', 'Chris', 'Dwayne', 'Dwayne', 'Dwayne', 'Dwayne', 'Dwayne', 'Dwayne', 'Dwayne', 'Dwayne', 'Dwayne', 'Dwayne', 'elon', 'elon', 'elon', 'elon', 'elon', 'elon', 'elon', 'elon', 'elon', 'Bill', 'Emma', 'Emma', 'Emma', 'Bill', 'Emma', 'Emma', 'Emma', 'Emma', 'Emma', 'Emma', 'jeff', 'jeff', 'jeff', 'jeff', 'jeff', 'jeff', 'jeff', 'jeff', 'jeff']\n",
      "['jeff bezos0_2040.jpg', 'elon musk11_1533.jpg', 'Bill Gates8_608.jpg', 'Mark Zuckerberg5_2063.jpg', 'Keanu Reeves12_1965.jpg', 'Johnny Depp20_1841.jpg', 'Dwayne Johnson10_1558.jpg', 'Chris Evans5_1235.jpg', 'Emma Watson32_1991.jpg', 'scarlett johansson15_3937.jpg'] [0.34132670366068046, 0.7402303531343337, 0.7644409507697454, 0.767082191959198, 0.792927058876603, 0.8125747593054601, 0.8151267408190285, 0.8791122403514378, 0.9306876173616561, 0.9739206127645584]\n",
      "['Bill', 'Emma', 'Bill', 'Bill', 'Bill', 'Bill', 'Bill', 'Bill', 'Bill', 'Bill', 'Chris', 'Chris', 'Chris', 'Chris', 'Chris', 'Chris', 'Chris', 'Chris', 'Johnny', 'Chris', 'Dwayne', 'Dwayne', 'Dwayne', 'Dwayne', 'Dwayne', 'Dwayne', 'Dwayne', 'Dwayne', 'Dwayne', 'Dwayne', 'elon', 'elon', 'elon', 'elon', 'elon', 'elon', 'elon', 'elon', 'elon', 'Bill', 'Emma', 'Emma', 'Emma', 'Bill', 'Emma', 'Emma', 'Emma', 'Emma', 'Emma', 'Emma', 'jeff', 'jeff', 'jeff', 'jeff', 'jeff', 'jeff', 'jeff', 'jeff', 'jeff', 'jeff']\n",
      "['Johnny Depp20_1841.jpg', 'elon musk11_1533.jpg', 'Chris Evans5_1235.jpg', 'Dwayne Johnson10_1558.jpg', 'jeff bezos0_2040.jpg', 'Keanu Reeves12_1965.jpg', 'Mark Zuckerberg5_2063.jpg', 'Bill Gates8_608.jpg', 'Emma Watson32_1991.jpg', 'scarlett johansson15_3937.jpg'] [0.6551317009373924, 0.6637237164014389, 0.6920930962984073, 0.7012721716638809, 0.704359831151766, 0.708361017350489, 0.735747708341448, 0.7571980968700351, 0.8695916175898664, 0.9365402556045589]\n",
      "['Bill', 'Emma', 'Bill', 'Bill', 'Bill', 'Bill', 'Bill', 'Bill', 'Bill', 'Bill', 'Chris', 'Chris', 'Chris', 'Chris', 'Chris', 'Chris', 'Chris', 'Chris', 'Johnny', 'Chris', 'Dwayne', 'Dwayne', 'Dwayne', 'Dwayne', 'Dwayne', 'Dwayne', 'Dwayne', 'Dwayne', 'Dwayne', 'Dwayne', 'elon', 'elon', 'elon', 'elon', 'elon', 'elon', 'elon', 'elon', 'elon', 'Bill', 'Emma', 'Emma', 'Emma', 'Bill', 'Emma', 'Emma', 'Emma', 'Emma', 'Emma', 'Emma', 'jeff', 'jeff', 'jeff', 'jeff', 'jeff', 'jeff', 'jeff', 'jeff', 'jeff', 'jeff', 'Johnny']\n",
      "['Johnny Depp20_1841.jpg', 'elon musk11_1533.jpg', 'Keanu Reeves12_1965.jpg', 'Dwayne Johnson10_1558.jpg', 'Chris Evans5_1235.jpg', 'jeff bezos0_2040.jpg', 'Mark Zuckerberg5_2063.jpg', 'Bill Gates8_608.jpg', 'Emma Watson32_1991.jpg', 'scarlett johansson15_3937.jpg'] [0.5780740491625737, 0.5997897008448081, 0.7018234441431005, 0.7192123105750599, 0.7307540908602292, 0.7373005022016976, 0.789167144859113, 0.8026785564451521, 0.8365784057313734, 0.9558577442670425]\n",
      "['Bill', 'Emma', 'Bill', 'Bill', 'Bill', 'Bill', 'Bill', 'Bill', 'Bill', 'Bill', 'Chris', 'Chris', 'Chris', 'Chris', 'Chris', 'Chris', 'Chris', 'Chris', 'Johnny', 'Chris', 'Dwayne', 'Dwayne', 'Dwayne', 'Dwayne', 'Dwayne', 'Dwayne', 'Dwayne', 'Dwayne', 'Dwayne', 'Dwayne', 'elon', 'elon', 'elon', 'elon', 'elon', 'elon', 'elon', 'elon', 'elon', 'Bill', 'Emma', 'Emma', 'Emma', 'Bill', 'Emma', 'Emma', 'Emma', 'Emma', 'Emma', 'Emma', 'jeff', 'jeff', 'jeff', 'jeff', 'jeff', 'jeff', 'jeff', 'jeff', 'jeff', 'jeff', 'Johnny', 'Johnny']\n",
      "['Johnny Depp20_1841.jpg', 'elon musk11_1533.jpg', 'Chris Evans5_1235.jpg', 'Keanu Reeves12_1965.jpg', 'Emma Watson32_1991.jpg', 'Mark Zuckerberg5_2063.jpg', 'jeff bezos0_2040.jpg', 'Bill Gates8_608.jpg', 'Dwayne Johnson10_1558.jpg', 'scarlett johansson15_3937.jpg'] [0.5518029157827806, 0.6294713965584039, 0.7268784155190747, 0.729279069112584, 0.7397417138188858, 0.7562888495788506, 0.7620679294340844, 0.7893824330661056, 0.8127580305852682, 0.8869638164603976]\n",
      "['Bill', 'Emma', 'Bill', 'Bill', 'Bill', 'Bill', 'Bill', 'Bill', 'Bill', 'Bill', 'Chris', 'Chris', 'Chris', 'Chris', 'Chris', 'Chris', 'Chris', 'Chris', 'Johnny', 'Chris', 'Dwayne', 'Dwayne', 'Dwayne', 'Dwayne', 'Dwayne', 'Dwayne', 'Dwayne', 'Dwayne', 'Dwayne', 'Dwayne', 'elon', 'elon', 'elon', 'elon', 'elon', 'elon', 'elon', 'elon', 'elon', 'Bill', 'Emma', 'Emma', 'Emma', 'Bill', 'Emma', 'Emma', 'Emma', 'Emma', 'Emma', 'Emma', 'jeff', 'jeff', 'jeff', 'jeff', 'jeff', 'jeff', 'jeff', 'jeff', 'jeff', 'jeff', 'Johnny', 'Johnny', 'Johnny']\n",
      "['Johnny Depp20_1841.jpg', 'elon musk11_1533.jpg', 'Keanu Reeves12_1965.jpg', 'Chris Evans5_1235.jpg', 'jeff bezos0_2040.jpg', 'Emma Watson32_1991.jpg', 'Dwayne Johnson10_1558.jpg', 'Bill Gates8_608.jpg', 'Mark Zuckerberg5_2063.jpg', 'scarlett johansson15_3937.jpg'] [0.48217850707506577, 0.5285983617309707, 0.6513395186035796, 0.6915717606243041, 0.7142753689227792, 0.714393283117534, 0.780847129983019, 0.7844830772362968, 0.8076947182561144, 0.8693471464170635]\n",
      "['Bill', 'Emma', 'Bill', 'Bill', 'Bill', 'Bill', 'Bill', 'Bill', 'Bill', 'Bill', 'Chris', 'Chris', 'Chris', 'Chris', 'Chris', 'Chris', 'Chris', 'Chris', 'Johnny', 'Chris', 'Dwayne', 'Dwayne', 'Dwayne', 'Dwayne', 'Dwayne', 'Dwayne', 'Dwayne', 'Dwayne', 'Dwayne', 'Dwayne', 'elon', 'elon', 'elon', 'elon', 'elon', 'elon', 'elon', 'elon', 'elon', 'Bill', 'Emma', 'Emma', 'Emma', 'Bill', 'Emma', 'Emma', 'Emma', 'Emma', 'Emma', 'Emma', 'jeff', 'jeff', 'jeff', 'jeff', 'jeff', 'jeff', 'jeff', 'jeff', 'jeff', 'jeff', 'Johnny', 'Johnny', 'Johnny', 'Johnny']\n",
      "['elon musk11_1533.jpg', 'Johnny Depp20_1841.jpg', 'Keanu Reeves12_1965.jpg', 'Dwayne Johnson10_1558.jpg', 'Chris Evans5_1235.jpg', 'jeff bezos0_2040.jpg', 'Bill Gates8_608.jpg', 'Emma Watson32_1991.jpg', 'Mark Zuckerberg5_2063.jpg', 'scarlett johansson15_3937.jpg'] [0.5424686026832488, 0.5642018279551313, 0.6414939875827337, 0.7453820043923074, 0.7909585805822013, 0.7982516653966977, 0.821647448702607, 0.8296380915066257, 0.8315994148176682, 0.9205276236373443]\n",
      "['Bill', 'Emma', 'Bill', 'Bill', 'Bill', 'Bill', 'Bill', 'Bill', 'Bill', 'Bill', 'Chris', 'Chris', 'Chris', 'Chris', 'Chris', 'Chris', 'Chris', 'Chris', 'Johnny', 'Chris', 'Dwayne', 'Dwayne', 'Dwayne', 'Dwayne', 'Dwayne', 'Dwayne', 'Dwayne', 'Dwayne', 'Dwayne', 'Dwayne', 'elon', 'elon', 'elon', 'elon', 'elon', 'elon', 'elon', 'elon', 'elon', 'Bill', 'Emma', 'Emma', 'Emma', 'Bill', 'Emma', 'Emma', 'Emma', 'Emma', 'Emma', 'Emma', 'jeff', 'jeff', 'jeff', 'jeff', 'jeff', 'jeff', 'jeff', 'jeff', 'jeff', 'jeff', 'Johnny', 'Johnny', 'Johnny', 'Johnny', 'elon']\n",
      "['Johnny Depp20_1841.jpg', 'Keanu Reeves12_1965.jpg', 'elon musk11_1533.jpg', 'Bill Gates8_608.jpg', 'Chris Evans5_1235.jpg', 'Dwayne Johnson10_1558.jpg', 'Mark Zuckerberg5_2063.jpg', 'jeff bezos0_2040.jpg', 'Emma Watson32_1991.jpg', 'scarlett johansson15_3937.jpg'] [0.544448452836304, 0.6322997346431294, 0.662014390375778, 0.6778904418032701, 0.6822172829305383, 0.6884438620966525, 0.7523492265159614, 0.8104599621738864, 0.8342150891977738, 0.9230682736862467]\n",
      "['Bill', 'Emma', 'Bill', 'Bill', 'Bill', 'Bill', 'Bill', 'Bill', 'Bill', 'Bill', 'Chris', 'Chris', 'Chris', 'Chris', 'Chris', 'Chris', 'Chris', 'Chris', 'Johnny', 'Chris', 'Dwayne', 'Dwayne', 'Dwayne', 'Dwayne', 'Dwayne', 'Dwayne', 'Dwayne', 'Dwayne', 'Dwayne', 'Dwayne', 'elon', 'elon', 'elon', 'elon', 'elon', 'elon', 'elon', 'elon', 'elon', 'Bill', 'Emma', 'Emma', 'Emma', 'Bill', 'Emma', 'Emma', 'Emma', 'Emma', 'Emma', 'Emma', 'jeff', 'jeff', 'jeff', 'jeff', 'jeff', 'jeff', 'jeff', 'jeff', 'jeff', 'jeff', 'Johnny', 'Johnny', 'Johnny', 'Johnny', 'elon', 'Johnny']\n",
      "['elon musk11_1533.jpg', 'Johnny Depp20_1841.jpg', 'Chris Evans5_1235.jpg', 'jeff bezos0_2040.jpg', 'Keanu Reeves12_1965.jpg', 'Mark Zuckerberg5_2063.jpg', 'Dwayne Johnson10_1558.jpg', 'Bill Gates8_608.jpg', 'Emma Watson32_1991.jpg', 'scarlett johansson15_3937.jpg'] [0.6413911844279367, 0.6467376633533414, 0.6827181454107102, 0.7242712020152735, 0.7369930268639973, 0.7695980612986955, 0.774490381703628, 0.8039450290251994, 0.8390972375261282, 0.9278146151726826]\n",
      "['Bill', 'Emma', 'Bill', 'Bill', 'Bill', 'Bill', 'Bill', 'Bill', 'Bill', 'Bill', 'Chris', 'Chris', 'Chris', 'Chris', 'Chris', 'Chris', 'Chris', 'Chris', 'Johnny', 'Chris', 'Dwayne', 'Dwayne', 'Dwayne', 'Dwayne', 'Dwayne', 'Dwayne', 'Dwayne', 'Dwayne', 'Dwayne', 'Dwayne', 'elon', 'elon', 'elon', 'elon', 'elon', 'elon', 'elon', 'elon', 'elon', 'Bill', 'Emma', 'Emma', 'Emma', 'Bill', 'Emma', 'Emma', 'Emma', 'Emma', 'Emma', 'Emma', 'jeff', 'jeff', 'jeff', 'jeff', 'jeff', 'jeff', 'jeff', 'jeff', 'jeff', 'jeff', 'Johnny', 'Johnny', 'Johnny', 'Johnny', 'elon', 'Johnny', 'elon']\n",
      "['Johnny Depp20_1841.jpg', 'elon musk11_1533.jpg', 'Keanu Reeves12_1965.jpg', 'Chris Evans5_1235.jpg', 'jeff bezos0_2040.jpg', 'Dwayne Johnson10_1558.jpg', 'Mark Zuckerberg5_2063.jpg', 'Bill Gates8_608.jpg', 'Emma Watson32_1991.jpg', 'scarlett johansson15_3937.jpg'] [0.5476363166142405, 0.6037110622594032, 0.6265122337627071, 0.7611013688992909, 0.7739899394512161, 0.777725127042976, 0.7862437802354878, 0.8166122268350988, 0.8343308446111511, 0.9187287530146772]\n",
      "['Bill', 'Emma', 'Bill', 'Bill', 'Bill', 'Bill', 'Bill', 'Bill', 'Bill', 'Bill', 'Chris', 'Chris', 'Chris', 'Chris', 'Chris', 'Chris', 'Chris', 'Chris', 'Johnny', 'Chris', 'Dwayne', 'Dwayne', 'Dwayne', 'Dwayne', 'Dwayne', 'Dwayne', 'Dwayne', 'Dwayne', 'Dwayne', 'Dwayne', 'elon', 'elon', 'elon', 'elon', 'elon', 'elon', 'elon', 'elon', 'elon', 'Bill', 'Emma', 'Emma', 'Emma', 'Bill', 'Emma', 'Emma', 'Emma', 'Emma', 'Emma', 'Emma', 'jeff', 'jeff', 'jeff', 'jeff', 'jeff', 'jeff', 'jeff', 'jeff', 'jeff', 'jeff', 'Johnny', 'Johnny', 'Johnny', 'Johnny', 'elon', 'Johnny', 'elon', 'Johnny']\n",
      "['Johnny Depp20_1841.jpg', 'elon musk11_1533.jpg', 'Keanu Reeves12_1965.jpg', 'Chris Evans5_1235.jpg', 'Emma Watson32_1991.jpg', 'Mark Zuckerberg5_2063.jpg', 'jeff bezos0_2040.jpg', 'Dwayne Johnson10_1558.jpg', 'Bill Gates8_608.jpg', 'scarlett johansson15_3937.jpg'] [0.4770881359029086, 0.5917611935401759, 0.6709778246298583, 0.7059106743248698, 0.7432856641936039, 0.7867129471053321, 0.7985144665768866, 0.81391670711458, 0.8414496554427334, 0.925086067534753]\n",
      "['Bill', 'Emma', 'Bill', 'Bill', 'Bill', 'Bill', 'Bill', 'Bill', 'Bill', 'Bill', 'Chris', 'Chris', 'Chris', 'Chris', 'Chris', 'Chris', 'Chris', 'Chris', 'Johnny', 'Chris', 'Dwayne', 'Dwayne', 'Dwayne', 'Dwayne', 'Dwayne', 'Dwayne', 'Dwayne', 'Dwayne', 'Dwayne', 'Dwayne', 'elon', 'elon', 'elon', 'elon', 'elon', 'elon', 'elon', 'elon', 'elon', 'Bill', 'Emma', 'Emma', 'Emma', 'Bill', 'Emma', 'Emma', 'Emma', 'Emma', 'Emma', 'Emma', 'jeff', 'jeff', 'jeff', 'jeff', 'jeff', 'jeff', 'jeff', 'jeff', 'jeff', 'jeff', 'Johnny', 'Johnny', 'Johnny', 'Johnny', 'elon', 'Johnny', 'elon', 'Johnny', 'Johnny']\n",
      "['Johnny Depp20_1841.jpg', 'elon musk11_1533.jpg', 'Keanu Reeves12_1965.jpg', 'Chris Evans5_1235.jpg', 'Dwayne Johnson10_1558.jpg', 'Emma Watson32_1991.jpg', 'Bill Gates8_608.jpg', 'Mark Zuckerberg5_2063.jpg', 'jeff bezos0_2040.jpg', 'scarlett johansson15_3937.jpg'] [0.48377207690496793, 0.6239675553555749, 0.6677032360678461, 0.731822488367385, 0.7664000170809298, 0.8064144839983469, 0.8152404236696914, 0.8329827530219169, 0.8467131804842268, 0.9181633988155994]\n",
      "['Bill', 'Emma', 'Bill', 'Bill', 'Bill', 'Bill', 'Bill', 'Bill', 'Bill', 'Bill', 'Chris', 'Chris', 'Chris', 'Chris', 'Chris', 'Chris', 'Chris', 'Chris', 'Johnny', 'Chris', 'Dwayne', 'Dwayne', 'Dwayne', 'Dwayne', 'Dwayne', 'Dwayne', 'Dwayne', 'Dwayne', 'Dwayne', 'Dwayne', 'elon', 'elon', 'elon', 'elon', 'elon', 'elon', 'elon', 'elon', 'elon', 'Bill', 'Emma', 'Emma', 'Emma', 'Bill', 'Emma', 'Emma', 'Emma', 'Emma', 'Emma', 'Emma', 'jeff', 'jeff', 'jeff', 'jeff', 'jeff', 'jeff', 'jeff', 'jeff', 'jeff', 'jeff', 'Johnny', 'Johnny', 'Johnny', 'Johnny', 'elon', 'Johnny', 'elon', 'Johnny', 'Johnny', 'Johnny']\n",
      "['Keanu Reeves12_1965.jpg', 'Johnny Depp20_1841.jpg', 'elon musk11_1533.jpg', 'jeff bezos0_2040.jpg', 'Chris Evans5_1235.jpg', 'Dwayne Johnson10_1558.jpg', 'Bill Gates8_608.jpg', 'Mark Zuckerberg5_2063.jpg', 'Emma Watson32_1991.jpg', 'scarlett johansson15_3937.jpg'] [0.5285036742449254, 0.648634220755423, 0.656018404142846, 0.7563095583115708, 0.7810642896604356, 0.7885471785874619, 0.7907312224478734, 0.8234874475635295, 0.8252686585068766, 0.827191095707406]\n",
      "['Bill', 'Emma', 'Bill', 'Bill', 'Bill', 'Bill', 'Bill', 'Bill', 'Bill', 'Bill', 'Chris', 'Chris', 'Chris', 'Chris', 'Chris', 'Chris', 'Chris', 'Chris', 'Johnny', 'Chris', 'Dwayne', 'Dwayne', 'Dwayne', 'Dwayne', 'Dwayne', 'Dwayne', 'Dwayne', 'Dwayne', 'Dwayne', 'Dwayne', 'elon', 'elon', 'elon', 'elon', 'elon', 'elon', 'elon', 'elon', 'elon', 'Bill', 'Emma', 'Emma', 'Emma', 'Bill', 'Emma', 'Emma', 'Emma', 'Emma', 'Emma', 'Emma', 'jeff', 'jeff', 'jeff', 'jeff', 'jeff', 'jeff', 'jeff', 'jeff', 'jeff', 'jeff', 'Johnny', 'Johnny', 'Johnny', 'Johnny', 'elon', 'Johnny', 'elon', 'Johnny', 'Johnny', 'Johnny', 'Keanu']\n",
      "['Keanu Reeves12_1965.jpg', 'Dwayne Johnson10_1558.jpg', 'Johnny Depp20_1841.jpg', 'elon musk11_1533.jpg', 'Chris Evans5_1235.jpg', 'Bill Gates8_608.jpg', 'jeff bezos0_2040.jpg', 'Mark Zuckerberg5_2063.jpg', 'scarlett johansson15_3937.jpg', 'Emma Watson32_1991.jpg'] [0.488074007986036, 0.6847538258904099, 0.7097156020385418, 0.736912233038691, 0.7690807261825932, 0.7694802240878629, 0.7829838751995957, 0.8235032075976373, 0.8825141443041812, 0.9002066041467972]\n",
      "['Bill', 'Emma', 'Bill', 'Bill', 'Bill', 'Bill', 'Bill', 'Bill', 'Bill', 'Bill', 'Chris', 'Chris', 'Chris', 'Chris', 'Chris', 'Chris', 'Chris', 'Chris', 'Johnny', 'Chris', 'Dwayne', 'Dwayne', 'Dwayne', 'Dwayne', 'Dwayne', 'Dwayne', 'Dwayne', 'Dwayne', 'Dwayne', 'Dwayne', 'elon', 'elon', 'elon', 'elon', 'elon', 'elon', 'elon', 'elon', 'elon', 'Bill', 'Emma', 'Emma', 'Emma', 'Bill', 'Emma', 'Emma', 'Emma', 'Emma', 'Emma', 'Emma', 'jeff', 'jeff', 'jeff', 'jeff', 'jeff', 'jeff', 'jeff', 'jeff', 'jeff', 'jeff', 'Johnny', 'Johnny', 'Johnny', 'Johnny', 'elon', 'Johnny', 'elon', 'Johnny', 'Johnny', 'Johnny', 'Keanu', 'Keanu']\n",
      "['Keanu Reeves12_1965.jpg', 'Johnny Depp20_1841.jpg', 'elon musk11_1533.jpg', 'Chris Evans5_1235.jpg', 'Dwayne Johnson10_1558.jpg', 'jeff bezos0_2040.jpg', 'Bill Gates8_608.jpg', 'scarlett johansson15_3937.jpg', 'Emma Watson32_1991.jpg', 'Mark Zuckerberg5_2063.jpg'] [0.548955653203936, 0.6945419558495494, 0.698675751449569, 0.7159884620423766, 0.7681694755966966, 0.7934279570286233, 0.838869600648224, 0.8728884754722048, 0.8872554374216546, 0.8982918664896881]\n",
      "['Bill', 'Emma', 'Bill', 'Bill', 'Bill', 'Bill', 'Bill', 'Bill', 'Bill', 'Bill', 'Chris', 'Chris', 'Chris', 'Chris', 'Chris', 'Chris', 'Chris', 'Chris', 'Johnny', 'Chris', 'Dwayne', 'Dwayne', 'Dwayne', 'Dwayne', 'Dwayne', 'Dwayne', 'Dwayne', 'Dwayne', 'Dwayne', 'Dwayne', 'elon', 'elon', 'elon', 'elon', 'elon', 'elon', 'elon', 'elon', 'elon', 'Bill', 'Emma', 'Emma', 'Emma', 'Bill', 'Emma', 'Emma', 'Emma', 'Emma', 'Emma', 'Emma', 'jeff', 'jeff', 'jeff', 'jeff', 'jeff', 'jeff', 'jeff', 'jeff', 'jeff', 'jeff', 'Johnny', 'Johnny', 'Johnny', 'Johnny', 'elon', 'Johnny', 'elon', 'Johnny', 'Johnny', 'Johnny', 'Keanu', 'Keanu', 'Keanu']\n",
      "['Keanu Reeves12_1965.jpg', 'elon musk11_1533.jpg', 'Johnny Depp20_1841.jpg', 'Dwayne Johnson10_1558.jpg', 'Bill Gates8_608.jpg', 'jeff bezos0_2040.jpg', 'scarlett johansson15_3937.jpg', 'Chris Evans5_1235.jpg', 'Mark Zuckerberg5_2063.jpg', 'Emma Watson32_1991.jpg'] [0.47525924658670016, 0.6893112149614256, 0.7345601702512132, 0.7379587887072636, 0.7552742174021734, 0.7753281719497264, 0.8155171351607485, 0.8166741958793209, 0.821858511488842, 0.8720957067053808]\n",
      "['Bill', 'Emma', 'Bill', 'Bill', 'Bill', 'Bill', 'Bill', 'Bill', 'Bill', 'Bill', 'Chris', 'Chris', 'Chris', 'Chris', 'Chris', 'Chris', 'Chris', 'Chris', 'Johnny', 'Chris', 'Dwayne', 'Dwayne', 'Dwayne', 'Dwayne', 'Dwayne', 'Dwayne', 'Dwayne', 'Dwayne', 'Dwayne', 'Dwayne', 'elon', 'elon', 'elon', 'elon', 'elon', 'elon', 'elon', 'elon', 'elon', 'Bill', 'Emma', 'Emma', 'Emma', 'Bill', 'Emma', 'Emma', 'Emma', 'Emma', 'Emma', 'Emma', 'jeff', 'jeff', 'jeff', 'jeff', 'jeff', 'jeff', 'jeff', 'jeff', 'jeff', 'jeff', 'Johnny', 'Johnny', 'Johnny', 'Johnny', 'elon', 'Johnny', 'elon', 'Johnny', 'Johnny', 'Johnny', 'Keanu', 'Keanu', 'Keanu', 'Keanu']\n",
      "['Keanu Reeves12_1965.jpg', 'Johnny Depp20_1841.jpg', 'elon musk11_1533.jpg', 'Dwayne Johnson10_1558.jpg', 'Chris Evans5_1235.jpg', 'Bill Gates8_608.jpg', 'jeff bezos0_2040.jpg', 'Mark Zuckerberg5_2063.jpg', 'scarlett johansson15_3937.jpg', 'Emma Watson32_1991.jpg'] [0.4087903306307998, 0.675291399605153, 0.6801182583383922, 0.6830045254616639, 0.7343263363125706, 0.7718103984450906, 0.7857673500512178, 0.849296339081149, 0.8907930537229568, 0.9039103691070237]\n",
      "['Bill', 'Emma', 'Bill', 'Bill', 'Bill', 'Bill', 'Bill', 'Bill', 'Bill', 'Bill', 'Chris', 'Chris', 'Chris', 'Chris', 'Chris', 'Chris', 'Chris', 'Chris', 'Johnny', 'Chris', 'Dwayne', 'Dwayne', 'Dwayne', 'Dwayne', 'Dwayne', 'Dwayne', 'Dwayne', 'Dwayne', 'Dwayne', 'Dwayne', 'elon', 'elon', 'elon', 'elon', 'elon', 'elon', 'elon', 'elon', 'elon', 'Bill', 'Emma', 'Emma', 'Emma', 'Bill', 'Emma', 'Emma', 'Emma', 'Emma', 'Emma', 'Emma', 'jeff', 'jeff', 'jeff', 'jeff', 'jeff', 'jeff', 'jeff', 'jeff', 'jeff', 'jeff', 'Johnny', 'Johnny', 'Johnny', 'Johnny', 'elon', 'Johnny', 'elon', 'Johnny', 'Johnny', 'Johnny', 'Keanu', 'Keanu', 'Keanu', 'Keanu', 'Keanu']\n",
      "['Keanu Reeves12_1965.jpg', 'Johnny Depp20_1841.jpg', 'elon musk11_1533.jpg', 'Bill Gates8_608.jpg', 'Dwayne Johnson10_1558.jpg', 'Chris Evans5_1235.jpg', 'jeff bezos0_2040.jpg', 'Emma Watson32_1991.jpg', 'scarlett johansson15_3937.jpg', 'Mark Zuckerberg5_2063.jpg'] [0.6449612836474304, 0.6503296578856932, 0.685881454902575, 0.6938245087842143, 0.6956544599124761, 0.7064415037191909, 0.744026850448115, 0.7921913584020841, 0.8152208457847236, 0.8194286011427009]\n",
      "['Bill', 'Emma', 'Bill', 'Bill', 'Bill', 'Bill', 'Bill', 'Bill', 'Bill', 'Bill', 'Chris', 'Chris', 'Chris', 'Chris', 'Chris', 'Chris', 'Chris', 'Chris', 'Johnny', 'Chris', 'Dwayne', 'Dwayne', 'Dwayne', 'Dwayne', 'Dwayne', 'Dwayne', 'Dwayne', 'Dwayne', 'Dwayne', 'Dwayne', 'elon', 'elon', 'elon', 'elon', 'elon', 'elon', 'elon', 'elon', 'elon', 'Bill', 'Emma', 'Emma', 'Emma', 'Bill', 'Emma', 'Emma', 'Emma', 'Emma', 'Emma', 'Emma', 'jeff', 'jeff', 'jeff', 'jeff', 'jeff', 'jeff', 'jeff', 'jeff', 'jeff', 'jeff', 'Johnny', 'Johnny', 'Johnny', 'Johnny', 'elon', 'Johnny', 'elon', 'Johnny', 'Johnny', 'Johnny', 'Keanu', 'Keanu', 'Keanu', 'Keanu', 'Keanu', 'Keanu']\n",
      "['Keanu Reeves12_1965.jpg', 'Dwayne Johnson10_1558.jpg', 'elon musk11_1533.jpg', 'Johnny Depp20_1841.jpg', 'Chris Evans5_1235.jpg', 'Bill Gates8_608.jpg', 'jeff bezos0_2040.jpg', 'scarlett johansson15_3937.jpg', 'Mark Zuckerberg5_2063.jpg', 'Emma Watson32_1991.jpg'] [0.437952435963475, 0.6684706371262218, 0.7331153330330797, 0.7443381082397946, 0.7520507909638433, 0.7557343470916402, 0.8285792149633877, 0.8815714077017739, 0.8824572390274495, 0.910243845279227]\n",
      "['Bill', 'Emma', 'Bill', 'Bill', 'Bill', 'Bill', 'Bill', 'Bill', 'Bill', 'Bill', 'Chris', 'Chris', 'Chris', 'Chris', 'Chris', 'Chris', 'Chris', 'Chris', 'Johnny', 'Chris', 'Dwayne', 'Dwayne', 'Dwayne', 'Dwayne', 'Dwayne', 'Dwayne', 'Dwayne', 'Dwayne', 'Dwayne', 'Dwayne', 'elon', 'elon', 'elon', 'elon', 'elon', 'elon', 'elon', 'elon', 'elon', 'Bill', 'Emma', 'Emma', 'Emma', 'Bill', 'Emma', 'Emma', 'Emma', 'Emma', 'Emma', 'Emma', 'jeff', 'jeff', 'jeff', 'jeff', 'jeff', 'jeff', 'jeff', 'jeff', 'jeff', 'jeff', 'Johnny', 'Johnny', 'Johnny', 'Johnny', 'elon', 'Johnny', 'elon', 'Johnny', 'Johnny', 'Johnny', 'Keanu', 'Keanu', 'Keanu', 'Keanu', 'Keanu', 'Keanu', 'Keanu']\n",
      "['Keanu Reeves12_1965.jpg', 'Johnny Depp20_1841.jpg', 'Chris Evans5_1235.jpg', 'elon musk11_1533.jpg', 'Dwayne Johnson10_1558.jpg', 'jeff bezos0_2040.jpg', 'Bill Gates8_608.jpg', 'Emma Watson32_1991.jpg', 'Mark Zuckerberg5_2063.jpg', 'scarlett johansson15_3937.jpg'] [0.5027464613197263, 0.5958968465715391, 0.6602529067722435, 0.6855820772812065, 0.7162410308770817, 0.7235376273421008, 0.7339214433274444, 0.8214164471145957, 0.8596535676846058, 0.8615505681801587]\n",
      "['Bill', 'Emma', 'Bill', 'Bill', 'Bill', 'Bill', 'Bill', 'Bill', 'Bill', 'Bill', 'Chris', 'Chris', 'Chris', 'Chris', 'Chris', 'Chris', 'Chris', 'Chris', 'Johnny', 'Chris', 'Dwayne', 'Dwayne', 'Dwayne', 'Dwayne', 'Dwayne', 'Dwayne', 'Dwayne', 'Dwayne', 'Dwayne', 'Dwayne', 'elon', 'elon', 'elon', 'elon', 'elon', 'elon', 'elon', 'elon', 'elon', 'Bill', 'Emma', 'Emma', 'Emma', 'Bill', 'Emma', 'Emma', 'Emma', 'Emma', 'Emma', 'Emma', 'jeff', 'jeff', 'jeff', 'jeff', 'jeff', 'jeff', 'jeff', 'jeff', 'jeff', 'jeff', 'Johnny', 'Johnny', 'Johnny', 'Johnny', 'elon', 'Johnny', 'elon', 'Johnny', 'Johnny', 'Johnny', 'Keanu', 'Keanu', 'Keanu', 'Keanu', 'Keanu', 'Keanu', 'Keanu', 'Keanu']\n",
      "['Keanu Reeves12_1965.jpg', 'Dwayne Johnson10_1558.jpg', 'Johnny Depp20_1841.jpg', 'Chris Evans5_1235.jpg', 'Bill Gates8_608.jpg', 'jeff bezos0_2040.jpg', 'elon musk11_1533.jpg', 'Mark Zuckerberg5_2063.jpg', 'Emma Watson32_1991.jpg', 'scarlett johansson15_3937.jpg'] [0.5434418223926727, 0.6685055229349649, 0.7112998889964456, 0.711810250754463, 0.7259557232170227, 0.7433480191233454, 0.7762726205982102, 0.7872683499149792, 0.8577177224214695, 0.8611795933463888]\n",
      "['Bill', 'Emma', 'Bill', 'Bill', 'Bill', 'Bill', 'Bill', 'Bill', 'Bill', 'Bill', 'Chris', 'Chris', 'Chris', 'Chris', 'Chris', 'Chris', 'Chris', 'Chris', 'Johnny', 'Chris', 'Dwayne', 'Dwayne', 'Dwayne', 'Dwayne', 'Dwayne', 'Dwayne', 'Dwayne', 'Dwayne', 'Dwayne', 'Dwayne', 'elon', 'elon', 'elon', 'elon', 'elon', 'elon', 'elon', 'elon', 'elon', 'Bill', 'Emma', 'Emma', 'Emma', 'Bill', 'Emma', 'Emma', 'Emma', 'Emma', 'Emma', 'Emma', 'jeff', 'jeff', 'jeff', 'jeff', 'jeff', 'jeff', 'jeff', 'jeff', 'jeff', 'jeff', 'Johnny', 'Johnny', 'Johnny', 'Johnny', 'elon', 'Johnny', 'elon', 'Johnny', 'Johnny', 'Johnny', 'Keanu', 'Keanu', 'Keanu', 'Keanu', 'Keanu', 'Keanu', 'Keanu', 'Keanu', 'Keanu']\n",
      "['Keanu Reeves12_1965.jpg', 'Dwayne Johnson10_1558.jpg', 'Johnny Depp20_1841.jpg', 'elon musk11_1533.jpg', 'Chris Evans5_1235.jpg', 'Bill Gates8_608.jpg', 'jeff bezos0_2040.jpg', 'Mark Zuckerberg5_2063.jpg', 'scarlett johansson15_3937.jpg', 'Emma Watson32_1991.jpg'] [0.44889658761560425, 0.7007160478233474, 0.7289943772279961, 0.7392223288431811, 0.7525813182181598, 0.7648515254339022, 0.7952743860932705, 0.8502516973220352, 0.8696981853242152, 0.9268095354674235]\n",
      "['Bill', 'Emma', 'Bill', 'Bill', 'Bill', 'Bill', 'Bill', 'Bill', 'Bill', 'Bill', 'Chris', 'Chris', 'Chris', 'Chris', 'Chris', 'Chris', 'Chris', 'Chris', 'Johnny', 'Chris', 'Dwayne', 'Dwayne', 'Dwayne', 'Dwayne', 'Dwayne', 'Dwayne', 'Dwayne', 'Dwayne', 'Dwayne', 'Dwayne', 'elon', 'elon', 'elon', 'elon', 'elon', 'elon', 'elon', 'elon', 'elon', 'Bill', 'Emma', 'Emma', 'Emma', 'Bill', 'Emma', 'Emma', 'Emma', 'Emma', 'Emma', 'Emma', 'jeff', 'jeff', 'jeff', 'jeff', 'jeff', 'jeff', 'jeff', 'jeff', 'jeff', 'jeff', 'Johnny', 'Johnny', 'Johnny', 'Johnny', 'elon', 'Johnny', 'elon', 'Johnny', 'Johnny', 'Johnny', 'Keanu', 'Keanu', 'Keanu', 'Keanu', 'Keanu', 'Keanu', 'Keanu', 'Keanu', 'Keanu', 'Keanu']\n",
      "['Mark Zuckerberg5_2063.jpg', 'Bill Gates8_608.jpg', 'jeff bezos0_2040.jpg', 'Johnny Depp20_1841.jpg', 'Chris Evans5_1235.jpg', 'elon musk11_1533.jpg', 'Keanu Reeves12_1965.jpg', 'Emma Watson32_1991.jpg', 'Dwayne Johnson10_1558.jpg', 'scarlett johansson15_3937.jpg'] [0.32537086272663807, 0.68743821711037, 0.8063776515995051, 0.821728666788949, 0.8272465174919883, 0.8360376061098376, 0.8426591254377513, 0.8490447554574566, 0.8576432779690061, 0.9475225031135739]\n",
      "['Bill', 'Emma', 'Bill', 'Bill', 'Bill', 'Bill', 'Bill', 'Bill', 'Bill', 'Bill', 'Chris', 'Chris', 'Chris', 'Chris', 'Chris', 'Chris', 'Chris', 'Chris', 'Johnny', 'Chris', 'Dwayne', 'Dwayne', 'Dwayne', 'Dwayne', 'Dwayne', 'Dwayne', 'Dwayne', 'Dwayne', 'Dwayne', 'Dwayne', 'elon', 'elon', 'elon', 'elon', 'elon', 'elon', 'elon', 'elon', 'elon', 'Bill', 'Emma', 'Emma', 'Emma', 'Bill', 'Emma', 'Emma', 'Emma', 'Emma', 'Emma', 'Emma', 'jeff', 'jeff', 'jeff', 'jeff', 'jeff', 'jeff', 'jeff', 'jeff', 'jeff', 'jeff', 'Johnny', 'Johnny', 'Johnny', 'Johnny', 'elon', 'Johnny', 'elon', 'Johnny', 'Johnny', 'Johnny', 'Keanu', 'Keanu', 'Keanu', 'Keanu', 'Keanu', 'Keanu', 'Keanu', 'Keanu', 'Keanu', 'Keanu', 'Mark']\n",
      "['Mark Zuckerberg5_2063.jpg', 'Bill Gates8_608.jpg', 'jeff bezos0_2040.jpg', 'elon musk11_1533.jpg', 'Keanu Reeves12_1965.jpg', 'Johnny Depp20_1841.jpg', 'Emma Watson32_1991.jpg', 'Chris Evans5_1235.jpg', 'Dwayne Johnson10_1558.jpg', 'scarlett johansson15_3937.jpg'] [0.2841516666287572, 0.7843795823321363, 0.8325518519640367, 0.8624148393326773, 0.8655106393821581, 0.8758638657634501, 0.9022857046075557, 0.9057733717905614, 0.9231075714046497, 0.9981540772068477]\n",
      "['Bill', 'Emma', 'Bill', 'Bill', 'Bill', 'Bill', 'Bill', 'Bill', 'Bill', 'Bill', 'Chris', 'Chris', 'Chris', 'Chris', 'Chris', 'Chris', 'Chris', 'Chris', 'Johnny', 'Chris', 'Dwayne', 'Dwayne', 'Dwayne', 'Dwayne', 'Dwayne', 'Dwayne', 'Dwayne', 'Dwayne', 'Dwayne', 'Dwayne', 'elon', 'elon', 'elon', 'elon', 'elon', 'elon', 'elon', 'elon', 'elon', 'Bill', 'Emma', 'Emma', 'Emma', 'Bill', 'Emma', 'Emma', 'Emma', 'Emma', 'Emma', 'Emma', 'jeff', 'jeff', 'jeff', 'jeff', 'jeff', 'jeff', 'jeff', 'jeff', 'jeff', 'jeff', 'Johnny', 'Johnny', 'Johnny', 'Johnny', 'elon', 'Johnny', 'elon', 'Johnny', 'Johnny', 'Johnny', 'Keanu', 'Keanu', 'Keanu', 'Keanu', 'Keanu', 'Keanu', 'Keanu', 'Keanu', 'Keanu', 'Keanu', 'Mark', 'Mark']\n",
      "['Mark Zuckerberg5_2063.jpg', 'Bill Gates8_608.jpg', 'jeff bezos0_2040.jpg', 'Chris Evans5_1235.jpg', 'Keanu Reeves12_1965.jpg', 'Dwayne Johnson10_1558.jpg', 'elon musk11_1533.jpg', 'Emma Watson32_1991.jpg', 'Johnny Depp20_1841.jpg', 'scarlett johansson15_3937.jpg'] [0.3756484773164763, 0.7897901040447829, 0.806701571014277, 0.8357397537864315, 0.8370733741501484, 0.8513887455852207, 0.8884654936417988, 0.8889772652788198, 0.8898661588455864, 0.941828773377433]\n",
      "['Bill', 'Emma', 'Bill', 'Bill', 'Bill', 'Bill', 'Bill', 'Bill', 'Bill', 'Bill', 'Chris', 'Chris', 'Chris', 'Chris', 'Chris', 'Chris', 'Chris', 'Chris', 'Johnny', 'Chris', 'Dwayne', 'Dwayne', 'Dwayne', 'Dwayne', 'Dwayne', 'Dwayne', 'Dwayne', 'Dwayne', 'Dwayne', 'Dwayne', 'elon', 'elon', 'elon', 'elon', 'elon', 'elon', 'elon', 'elon', 'elon', 'Bill', 'Emma', 'Emma', 'Emma', 'Bill', 'Emma', 'Emma', 'Emma', 'Emma', 'Emma', 'Emma', 'jeff', 'jeff', 'jeff', 'jeff', 'jeff', 'jeff', 'jeff', 'jeff', 'jeff', 'jeff', 'Johnny', 'Johnny', 'Johnny', 'Johnny', 'elon', 'Johnny', 'elon', 'Johnny', 'Johnny', 'Johnny', 'Keanu', 'Keanu', 'Keanu', 'Keanu', 'Keanu', 'Keanu', 'Keanu', 'Keanu', 'Keanu', 'Keanu', 'Mark', 'Mark', 'Mark']\n",
      "['Mark Zuckerberg5_2063.jpg', 'Bill Gates8_608.jpg', 'Keanu Reeves12_1965.jpg', 'jeff bezos0_2040.jpg', 'Dwayne Johnson10_1558.jpg', 'Chris Evans5_1235.jpg', 'elon musk11_1533.jpg', 'Johnny Depp20_1841.jpg', 'Emma Watson32_1991.jpg', 'scarlett johansson15_3937.jpg'] [0.43804699247844986, 0.6778594691179197, 0.7208308285188689, 0.7328793079770283, 0.7714312477548606, 0.7990100721684704, 0.8016106150312132, 0.8252058341439593, 0.8549655011333159, 0.9245321880115718]\n",
      "['Bill', 'Emma', 'Bill', 'Bill', 'Bill', 'Bill', 'Bill', 'Bill', 'Bill', 'Bill', 'Chris', 'Chris', 'Chris', 'Chris', 'Chris', 'Chris', 'Chris', 'Chris', 'Johnny', 'Chris', 'Dwayne', 'Dwayne', 'Dwayne', 'Dwayne', 'Dwayne', 'Dwayne', 'Dwayne', 'Dwayne', 'Dwayne', 'Dwayne', 'elon', 'elon', 'elon', 'elon', 'elon', 'elon', 'elon', 'elon', 'elon', 'Bill', 'Emma', 'Emma', 'Emma', 'Bill', 'Emma', 'Emma', 'Emma', 'Emma', 'Emma', 'Emma', 'jeff', 'jeff', 'jeff', 'jeff', 'jeff', 'jeff', 'jeff', 'jeff', 'jeff', 'jeff', 'Johnny', 'Johnny', 'Johnny', 'Johnny', 'elon', 'Johnny', 'elon', 'Johnny', 'Johnny', 'Johnny', 'Keanu', 'Keanu', 'Keanu', 'Keanu', 'Keanu', 'Keanu', 'Keanu', 'Keanu', 'Keanu', 'Keanu', 'Mark', 'Mark', 'Mark', 'Mark']\n",
      "['Mark Zuckerberg5_2063.jpg', 'Bill Gates8_608.jpg', 'jeff bezos0_2040.jpg', 'Keanu Reeves12_1965.jpg', 'Johnny Depp20_1841.jpg', 'Chris Evans5_1235.jpg', 'Dwayne Johnson10_1558.jpg', 'elon musk11_1533.jpg', 'Emma Watson32_1991.jpg', 'scarlett johansson15_3937.jpg'] [0.33843337858530326, 0.6241089556322419, 0.7593665755038106, 0.8031223665718745, 0.8394353581881703, 0.842520889358728, 0.8468552726629026, 0.8658363170686003, 0.8868722387537322, 0.9496713020851124]\n",
      "['Bill', 'Emma', 'Bill', 'Bill', 'Bill', 'Bill', 'Bill', 'Bill', 'Bill', 'Bill', 'Chris', 'Chris', 'Chris', 'Chris', 'Chris', 'Chris', 'Chris', 'Chris', 'Johnny', 'Chris', 'Dwayne', 'Dwayne', 'Dwayne', 'Dwayne', 'Dwayne', 'Dwayne', 'Dwayne', 'Dwayne', 'Dwayne', 'Dwayne', 'elon', 'elon', 'elon', 'elon', 'elon', 'elon', 'elon', 'elon', 'elon', 'Bill', 'Emma', 'Emma', 'Emma', 'Bill', 'Emma', 'Emma', 'Emma', 'Emma', 'Emma', 'Emma', 'jeff', 'jeff', 'jeff', 'jeff', 'jeff', 'jeff', 'jeff', 'jeff', 'jeff', 'jeff', 'Johnny', 'Johnny', 'Johnny', 'Johnny', 'elon', 'Johnny', 'elon', 'Johnny', 'Johnny', 'Johnny', 'Keanu', 'Keanu', 'Keanu', 'Keanu', 'Keanu', 'Keanu', 'Keanu', 'Keanu', 'Keanu', 'Keanu', 'Mark', 'Mark', 'Mark', 'Mark', 'Mark']\n",
      "['Mark Zuckerberg5_2063.jpg', 'Bill Gates8_608.jpg', 'jeff bezos0_2040.jpg', 'Keanu Reeves12_1965.jpg', 'Johnny Depp20_1841.jpg', 'elon musk11_1533.jpg', 'Emma Watson32_1991.jpg', 'Dwayne Johnson10_1558.jpg', 'Chris Evans5_1235.jpg', 'scarlett johansson15_3937.jpg'] [0.32441226213949065, 0.7507736728610124, 0.7831795157675369, 0.8408192256107121, 0.8548839434621704, 0.8620458079814469, 0.8723896142063501, 0.8963086843660738, 0.9015641648765146, 0.9484250979007776]\n",
      "['Bill', 'Emma', 'Bill', 'Bill', 'Bill', 'Bill', 'Bill', 'Bill', 'Bill', 'Bill', 'Chris', 'Chris', 'Chris', 'Chris', 'Chris', 'Chris', 'Chris', 'Chris', 'Johnny', 'Chris', 'Dwayne', 'Dwayne', 'Dwayne', 'Dwayne', 'Dwayne', 'Dwayne', 'Dwayne', 'Dwayne', 'Dwayne', 'Dwayne', 'elon', 'elon', 'elon', 'elon', 'elon', 'elon', 'elon', 'elon', 'elon', 'Bill', 'Emma', 'Emma', 'Emma', 'Bill', 'Emma', 'Emma', 'Emma', 'Emma', 'Emma', 'Emma', 'jeff', 'jeff', 'jeff', 'jeff', 'jeff', 'jeff', 'jeff', 'jeff', 'jeff', 'jeff', 'Johnny', 'Johnny', 'Johnny', 'Johnny', 'elon', 'Johnny', 'elon', 'Johnny', 'Johnny', 'Johnny', 'Keanu', 'Keanu', 'Keanu', 'Keanu', 'Keanu', 'Keanu', 'Keanu', 'Keanu', 'Keanu', 'Keanu', 'Mark', 'Mark', 'Mark', 'Mark', 'Mark', 'Mark']\n",
      "['Mark Zuckerberg5_2063.jpg', 'Bill Gates8_608.jpg', 'jeff bezos0_2040.jpg', 'elon musk11_1533.jpg', 'Keanu Reeves12_1965.jpg', 'Dwayne Johnson10_1558.jpg', 'Johnny Depp20_1841.jpg', 'Chris Evans5_1235.jpg', 'Emma Watson32_1991.jpg', 'scarlett johansson15_3937.jpg'] [0.4152730822058599, 0.6850346575931202, 0.7575195817451156, 0.8064573488952762, 0.8407032919566076, 0.8690466295236987, 0.8742418002430171, 0.880266213555008, 0.9276608026677233, 0.9874580048714195]\n",
      "['Bill', 'Emma', 'Bill', 'Bill', 'Bill', 'Bill', 'Bill', 'Bill', 'Bill', 'Bill', 'Chris', 'Chris', 'Chris', 'Chris', 'Chris', 'Chris', 'Chris', 'Chris', 'Johnny', 'Chris', 'Dwayne', 'Dwayne', 'Dwayne', 'Dwayne', 'Dwayne', 'Dwayne', 'Dwayne', 'Dwayne', 'Dwayne', 'Dwayne', 'elon', 'elon', 'elon', 'elon', 'elon', 'elon', 'elon', 'elon', 'elon', 'Bill', 'Emma', 'Emma', 'Emma', 'Bill', 'Emma', 'Emma', 'Emma', 'Emma', 'Emma', 'Emma', 'jeff', 'jeff', 'jeff', 'jeff', 'jeff', 'jeff', 'jeff', 'jeff', 'jeff', 'jeff', 'Johnny', 'Johnny', 'Johnny', 'Johnny', 'elon', 'Johnny', 'elon', 'Johnny', 'Johnny', 'Johnny', 'Keanu', 'Keanu', 'Keanu', 'Keanu', 'Keanu', 'Keanu', 'Keanu', 'Keanu', 'Keanu', 'Keanu', 'Mark', 'Mark', 'Mark', 'Mark', 'Mark', 'Mark', 'Mark']\n",
      "['Mark Zuckerberg5_2063.jpg', 'Bill Gates8_608.jpg', 'jeff bezos0_2040.jpg', 'elon musk11_1533.jpg', 'Johnny Depp20_1841.jpg', 'Keanu Reeves12_1965.jpg', 'Chris Evans5_1235.jpg', 'Dwayne Johnson10_1558.jpg', 'Emma Watson32_1991.jpg', 'scarlett johansson15_3937.jpg'] [0.3030843444460577, 0.6943772979125494, 0.7520996482089192, 0.812866319071899, 0.8210942094339461, 0.8251033323416522, 0.8464115542152681, 0.8668195301094831, 0.8761019004722627, 0.9484380468664225]\n",
      "['Bill', 'Emma', 'Bill', 'Bill', 'Bill', 'Bill', 'Bill', 'Bill', 'Bill', 'Bill', 'Chris', 'Chris', 'Chris', 'Chris', 'Chris', 'Chris', 'Chris', 'Chris', 'Johnny', 'Chris', 'Dwayne', 'Dwayne', 'Dwayne', 'Dwayne', 'Dwayne', 'Dwayne', 'Dwayne', 'Dwayne', 'Dwayne', 'Dwayne', 'elon', 'elon', 'elon', 'elon', 'elon', 'elon', 'elon', 'elon', 'elon', 'Bill', 'Emma', 'Emma', 'Emma', 'Bill', 'Emma', 'Emma', 'Emma', 'Emma', 'Emma', 'Emma', 'jeff', 'jeff', 'jeff', 'jeff', 'jeff', 'jeff', 'jeff', 'jeff', 'jeff', 'jeff', 'Johnny', 'Johnny', 'Johnny', 'Johnny', 'elon', 'Johnny', 'elon', 'Johnny', 'Johnny', 'Johnny', 'Keanu', 'Keanu', 'Keanu', 'Keanu', 'Keanu', 'Keanu', 'Keanu', 'Keanu', 'Keanu', 'Keanu', 'Mark', 'Mark', 'Mark', 'Mark', 'Mark', 'Mark', 'Mark', 'Mark']\n",
      "['Mark Zuckerberg5_2063.jpg', 'Bill Gates8_608.jpg', 'jeff bezos0_2040.jpg', 'Keanu Reeves12_1965.jpg', 'Dwayne Johnson10_1558.jpg', 'Johnny Depp20_1841.jpg', 'elon musk11_1533.jpg', 'Chris Evans5_1235.jpg', 'Emma Watson32_1991.jpg', 'scarlett johansson15_3937.jpg'] [0.4500887008314694, 0.630538407484276, 0.7526570413278642, 0.7865382429405798, 0.8004398144872016, 0.803804753854757, 0.8046330787082577, 0.8702220143161927, 0.8726383278843696, 0.953868333143015]\n",
      "['Bill', 'Emma', 'Bill', 'Bill', 'Bill', 'Bill', 'Bill', 'Bill', 'Bill', 'Bill', 'Chris', 'Chris', 'Chris', 'Chris', 'Chris', 'Chris', 'Chris', 'Chris', 'Johnny', 'Chris', 'Dwayne', 'Dwayne', 'Dwayne', 'Dwayne', 'Dwayne', 'Dwayne', 'Dwayne', 'Dwayne', 'Dwayne', 'Dwayne', 'elon', 'elon', 'elon', 'elon', 'elon', 'elon', 'elon', 'elon', 'elon', 'Bill', 'Emma', 'Emma', 'Emma', 'Bill', 'Emma', 'Emma', 'Emma', 'Emma', 'Emma', 'Emma', 'jeff', 'jeff', 'jeff', 'jeff', 'jeff', 'jeff', 'jeff', 'jeff', 'jeff', 'jeff', 'Johnny', 'Johnny', 'Johnny', 'Johnny', 'elon', 'Johnny', 'elon', 'Johnny', 'Johnny', 'Johnny', 'Keanu', 'Keanu', 'Keanu', 'Keanu', 'Keanu', 'Keanu', 'Keanu', 'Keanu', 'Keanu', 'Keanu', 'Mark', 'Mark', 'Mark', 'Mark', 'Mark', 'Mark', 'Mark', 'Mark', 'Mark']\n",
      "['Mark Zuckerberg5_2063.jpg', 'Bill Gates8_608.jpg', 'jeff bezos0_2040.jpg', 'Chris Evans5_1235.jpg', 'Keanu Reeves12_1965.jpg', 'Dwayne Johnson10_1558.jpg', 'Johnny Depp20_1841.jpg', 'elon musk11_1533.jpg', 'Emma Watson32_1991.jpg', 'scarlett johansson15_3937.jpg'] [0.307605696795231, 0.718473404099893, 0.8089268892470683, 0.8360532003726958, 0.8393306374945853, 0.8515099341934719, 0.8623822280422777, 0.8635040111617052, 0.8771675136773779, 0.9524204472055143]\n",
      "['Bill', 'Emma', 'Bill', 'Bill', 'Bill', 'Bill', 'Bill', 'Bill', 'Bill', 'Bill', 'Chris', 'Chris', 'Chris', 'Chris', 'Chris', 'Chris', 'Chris', 'Chris', 'Johnny', 'Chris', 'Dwayne', 'Dwayne', 'Dwayne', 'Dwayne', 'Dwayne', 'Dwayne', 'Dwayne', 'Dwayne', 'Dwayne', 'Dwayne', 'elon', 'elon', 'elon', 'elon', 'elon', 'elon', 'elon', 'elon', 'elon', 'Bill', 'Emma', 'Emma', 'Emma', 'Bill', 'Emma', 'Emma', 'Emma', 'Emma', 'Emma', 'Emma', 'jeff', 'jeff', 'jeff', 'jeff', 'jeff', 'jeff', 'jeff', 'jeff', 'jeff', 'jeff', 'Johnny', 'Johnny', 'Johnny', 'Johnny', 'elon', 'Johnny', 'elon', 'Johnny', 'Johnny', 'Johnny', 'Keanu', 'Keanu', 'Keanu', 'Keanu', 'Keanu', 'Keanu', 'Keanu', 'Keanu', 'Keanu', 'Keanu', 'Mark', 'Mark', 'Mark', 'Mark', 'Mark', 'Mark', 'Mark', 'Mark', 'Mark', 'Mark']\n",
      "['scarlett johansson15_3937.jpg', 'Emma Watson32_1991.jpg', 'Keanu Reeves12_1965.jpg', 'Johnny Depp20_1841.jpg', 'Dwayne Johnson10_1558.jpg', 'Mark Zuckerberg5_2063.jpg', 'Bill Gates8_608.jpg', 'jeff bezos0_2040.jpg', 'elon musk11_1533.jpg', 'Chris Evans5_1235.jpg'] [0.509974828893983, 0.6988020337069306, 0.8541093078085049, 0.8804130794851212, 0.9210672485963413, 0.9304092503873023, 0.9310604905827154, 0.9431448518240448, 0.9536733516282105, 1.0008657323492198]\n",
      "['Bill', 'Emma', 'Bill', 'Bill', 'Bill', 'Bill', 'Bill', 'Bill', 'Bill', 'Bill', 'Chris', 'Chris', 'Chris', 'Chris', 'Chris', 'Chris', 'Chris', 'Chris', 'Johnny', 'Chris', 'Dwayne', 'Dwayne', 'Dwayne', 'Dwayne', 'Dwayne', 'Dwayne', 'Dwayne', 'Dwayne', 'Dwayne', 'Dwayne', 'elon', 'elon', 'elon', 'elon', 'elon', 'elon', 'elon', 'elon', 'elon', 'Bill', 'Emma', 'Emma', 'Emma', 'Bill', 'Emma', 'Emma', 'Emma', 'Emma', 'Emma', 'Emma', 'jeff', 'jeff', 'jeff', 'jeff', 'jeff', 'jeff', 'jeff', 'jeff', 'jeff', 'jeff', 'Johnny', 'Johnny', 'Johnny', 'Johnny', 'elon', 'Johnny', 'elon', 'Johnny', 'Johnny', 'Johnny', 'Keanu', 'Keanu', 'Keanu', 'Keanu', 'Keanu', 'Keanu', 'Keanu', 'Keanu', 'Keanu', 'Keanu', 'Mark', 'Mark', 'Mark', 'Mark', 'Mark', 'Mark', 'Mark', 'Mark', 'Mark', 'Mark', 'scarlett']\n",
      "['scarlett johansson15_3937.jpg', 'Emma Watson32_1991.jpg', 'Keanu Reeves12_1965.jpg', 'Johnny Depp20_1841.jpg', 'Bill Gates8_608.jpg', 'Mark Zuckerberg5_2063.jpg', 'Dwayne Johnson10_1558.jpg', 'elon musk11_1533.jpg', 'Chris Evans5_1235.jpg', 'jeff bezos0_2040.jpg'] [0.47489191943307574, 0.6937251535382419, 0.8238380910003587, 0.8502149811256279, 0.8789348408016571, 0.8832049721446391, 0.8907877522158845, 0.9217344644106489, 0.9529045128553344, 0.9578085587501824]\n",
      "['Bill', 'Emma', 'Bill', 'Bill', 'Bill', 'Bill', 'Bill', 'Bill', 'Bill', 'Bill', 'Chris', 'Chris', 'Chris', 'Chris', 'Chris', 'Chris', 'Chris', 'Chris', 'Johnny', 'Chris', 'Dwayne', 'Dwayne', 'Dwayne', 'Dwayne', 'Dwayne', 'Dwayne', 'Dwayne', 'Dwayne', 'Dwayne', 'Dwayne', 'elon', 'elon', 'elon', 'elon', 'elon', 'elon', 'elon', 'elon', 'elon', 'Bill', 'Emma', 'Emma', 'Emma', 'Bill', 'Emma', 'Emma', 'Emma', 'Emma', 'Emma', 'Emma', 'jeff', 'jeff', 'jeff', 'jeff', 'jeff', 'jeff', 'jeff', 'jeff', 'jeff', 'jeff', 'Johnny', 'Johnny', 'Johnny', 'Johnny', 'elon', 'Johnny', 'elon', 'Johnny', 'Johnny', 'Johnny', 'Keanu', 'Keanu', 'Keanu', 'Keanu', 'Keanu', 'Keanu', 'Keanu', 'Keanu', 'Keanu', 'Keanu', 'Mark', 'Mark', 'Mark', 'Mark', 'Mark', 'Mark', 'Mark', 'Mark', 'Mark', 'Mark', 'scarlett', 'scarlett']\n",
      "['scarlett johansson15_3937.jpg', 'Emma Watson32_1991.jpg', 'Keanu Reeves12_1965.jpg', 'Johnny Depp20_1841.jpg', 'elon musk11_1533.jpg', 'Chris Evans5_1235.jpg', 'Bill Gates8_608.jpg', 'jeff bezos0_2040.jpg', 'Dwayne Johnson10_1558.jpg', 'Mark Zuckerberg5_2063.jpg'] [0.5011224280763685, 0.656454970241602, 0.746136675953502, 0.7907508764313386, 0.8802728999663308, 0.8839952766997436, 0.8864241907667318, 0.9037436272093886, 0.9043182896527299, 0.9218954667356893]\n",
      "['Bill', 'Emma', 'Bill', 'Bill', 'Bill', 'Bill', 'Bill', 'Bill', 'Bill', 'Bill', 'Chris', 'Chris', 'Chris', 'Chris', 'Chris', 'Chris', 'Chris', 'Chris', 'Johnny', 'Chris', 'Dwayne', 'Dwayne', 'Dwayne', 'Dwayne', 'Dwayne', 'Dwayne', 'Dwayne', 'Dwayne', 'Dwayne', 'Dwayne', 'elon', 'elon', 'elon', 'elon', 'elon', 'elon', 'elon', 'elon', 'elon', 'Bill', 'Emma', 'Emma', 'Emma', 'Bill', 'Emma', 'Emma', 'Emma', 'Emma', 'Emma', 'Emma', 'jeff', 'jeff', 'jeff', 'jeff', 'jeff', 'jeff', 'jeff', 'jeff', 'jeff', 'jeff', 'Johnny', 'Johnny', 'Johnny', 'Johnny', 'elon', 'Johnny', 'elon', 'Johnny', 'Johnny', 'Johnny', 'Keanu', 'Keanu', 'Keanu', 'Keanu', 'Keanu', 'Keanu', 'Keanu', 'Keanu', 'Keanu', 'Keanu', 'Mark', 'Mark', 'Mark', 'Mark', 'Mark', 'Mark', 'Mark', 'Mark', 'Mark', 'Mark', 'scarlett', 'scarlett', 'scarlett']\n",
      "['scarlett johansson15_3937.jpg', 'Emma Watson32_1991.jpg', 'Johnny Depp20_1841.jpg', 'Keanu Reeves12_1965.jpg', 'Chris Evans5_1235.jpg', 'Bill Gates8_608.jpg', 'Dwayne Johnson10_1558.jpg', 'jeff bezos0_2040.jpg', 'Mark Zuckerberg5_2063.jpg', 'elon musk11_1533.jpg'] [0.45485054491196986, 0.6570896142863631, 0.8673848387765855, 0.8828898701872026, 0.8857410097478233, 0.9379792254708229, 0.9409837523073576, 0.9575581100621245, 0.9645193953011445, 0.9936558273693579]\n",
      "['Bill', 'Emma', 'Bill', 'Bill', 'Bill', 'Bill', 'Bill', 'Bill', 'Bill', 'Bill', 'Chris', 'Chris', 'Chris', 'Chris', 'Chris', 'Chris', 'Chris', 'Chris', 'Johnny', 'Chris', 'Dwayne', 'Dwayne', 'Dwayne', 'Dwayne', 'Dwayne', 'Dwayne', 'Dwayne', 'Dwayne', 'Dwayne', 'Dwayne', 'elon', 'elon', 'elon', 'elon', 'elon', 'elon', 'elon', 'elon', 'elon', 'Bill', 'Emma', 'Emma', 'Emma', 'Bill', 'Emma', 'Emma', 'Emma', 'Emma', 'Emma', 'Emma', 'jeff', 'jeff', 'jeff', 'jeff', 'jeff', 'jeff', 'jeff', 'jeff', 'jeff', 'jeff', 'Johnny', 'Johnny', 'Johnny', 'Johnny', 'elon', 'Johnny', 'elon', 'Johnny', 'Johnny', 'Johnny', 'Keanu', 'Keanu', 'Keanu', 'Keanu', 'Keanu', 'Keanu', 'Keanu', 'Keanu', 'Keanu', 'Keanu', 'Mark', 'Mark', 'Mark', 'Mark', 'Mark', 'Mark', 'Mark', 'Mark', 'Mark', 'Mark', 'scarlett', 'scarlett', 'scarlett', 'scarlett']\n",
      "['scarlett johansson15_3937.jpg', 'Emma Watson32_1991.jpg', 'Keanu Reeves12_1965.jpg', 'Mark Zuckerberg5_2063.jpg', 'Johnny Depp20_1841.jpg', 'Bill Gates8_608.jpg', 'jeff bezos0_2040.jpg', 'elon musk11_1533.jpg', 'Dwayne Johnson10_1558.jpg', 'Chris Evans5_1235.jpg'] [0.47134073595627235, 0.6369680479493937, 0.8036523440364941, 0.874895200840593, 0.8783826447365416, 0.9125186558241866, 0.9234103311447902, 0.9352026678739942, 0.9592418972469533, 0.9711739938506815]\n",
      "['Bill', 'Emma', 'Bill', 'Bill', 'Bill', 'Bill', 'Bill', 'Bill', 'Bill', 'Bill', 'Chris', 'Chris', 'Chris', 'Chris', 'Chris', 'Chris', 'Chris', 'Chris', 'Johnny', 'Chris', 'Dwayne', 'Dwayne', 'Dwayne', 'Dwayne', 'Dwayne', 'Dwayne', 'Dwayne', 'Dwayne', 'Dwayne', 'Dwayne', 'elon', 'elon', 'elon', 'elon', 'elon', 'elon', 'elon', 'elon', 'elon', 'Bill', 'Emma', 'Emma', 'Emma', 'Bill', 'Emma', 'Emma', 'Emma', 'Emma', 'Emma', 'Emma', 'jeff', 'jeff', 'jeff', 'jeff', 'jeff', 'jeff', 'jeff', 'jeff', 'jeff', 'jeff', 'Johnny', 'Johnny', 'Johnny', 'Johnny', 'elon', 'Johnny', 'elon', 'Johnny', 'Johnny', 'Johnny', 'Keanu', 'Keanu', 'Keanu', 'Keanu', 'Keanu', 'Keanu', 'Keanu', 'Keanu', 'Keanu', 'Keanu', 'Mark', 'Mark', 'Mark', 'Mark', 'Mark', 'Mark', 'Mark', 'Mark', 'Mark', 'Mark', 'scarlett', 'scarlett', 'scarlett', 'scarlett', 'scarlett']\n",
      "['scarlett johansson15_3937.jpg', 'Emma Watson32_1991.jpg', 'Keanu Reeves12_1965.jpg', 'Johnny Depp20_1841.jpg', 'Bill Gates8_608.jpg', 'Dwayne Johnson10_1558.jpg', 'Chris Evans5_1235.jpg', 'Mark Zuckerberg5_2063.jpg', 'elon musk11_1533.jpg', 'jeff bezos0_2040.jpg'] [0.5031724963991312, 0.6562206988546473, 0.8138577392096791, 0.8306452299462871, 0.8690908087367585, 0.893474994199626, 0.9138013942832695, 0.9187096495146018, 0.9218826680534377, 0.9525248522664805]\n",
      "['Bill', 'Emma', 'Bill', 'Bill', 'Bill', 'Bill', 'Bill', 'Bill', 'Bill', 'Bill', 'Chris', 'Chris', 'Chris', 'Chris', 'Chris', 'Chris', 'Chris', 'Chris', 'Johnny', 'Chris', 'Dwayne', 'Dwayne', 'Dwayne', 'Dwayne', 'Dwayne', 'Dwayne', 'Dwayne', 'Dwayne', 'Dwayne', 'Dwayne', 'elon', 'elon', 'elon', 'elon', 'elon', 'elon', 'elon', 'elon', 'elon', 'Bill', 'Emma', 'Emma', 'Emma', 'Bill', 'Emma', 'Emma', 'Emma', 'Emma', 'Emma', 'Emma', 'jeff', 'jeff', 'jeff', 'jeff', 'jeff', 'jeff', 'jeff', 'jeff', 'jeff', 'jeff', 'Johnny', 'Johnny', 'Johnny', 'Johnny', 'elon', 'Johnny', 'elon', 'Johnny', 'Johnny', 'Johnny', 'Keanu', 'Keanu', 'Keanu', 'Keanu', 'Keanu', 'Keanu', 'Keanu', 'Keanu', 'Keanu', 'Keanu', 'Mark', 'Mark', 'Mark', 'Mark', 'Mark', 'Mark', 'Mark', 'Mark', 'Mark', 'Mark', 'scarlett', 'scarlett', 'scarlett', 'scarlett', 'scarlett', 'scarlett']\n",
      "['scarlett johansson15_3937.jpg', 'Emma Watson32_1991.jpg', 'Keanu Reeves12_1965.jpg', 'Johnny Depp20_1841.jpg', 'Chris Evans5_1235.jpg', 'jeff bezos0_2040.jpg', 'Bill Gates8_608.jpg', 'elon musk11_1533.jpg', 'Mark Zuckerberg5_2063.jpg', 'Dwayne Johnson10_1558.jpg'] [0.3592537503911909, 0.7042284671150552, 0.8874667052140021, 0.9021302408164408, 0.9613145903403413, 0.9657654641315004, 0.9702968799124433, 0.9757606349999957, 0.9788872856464638, 0.9951814904248426]\n",
      "['Bill', 'Emma', 'Bill', 'Bill', 'Bill', 'Bill', 'Bill', 'Bill', 'Bill', 'Bill', 'Chris', 'Chris', 'Chris', 'Chris', 'Chris', 'Chris', 'Chris', 'Chris', 'Johnny', 'Chris', 'Dwayne', 'Dwayne', 'Dwayne', 'Dwayne', 'Dwayne', 'Dwayne', 'Dwayne', 'Dwayne', 'Dwayne', 'Dwayne', 'elon', 'elon', 'elon', 'elon', 'elon', 'elon', 'elon', 'elon', 'elon', 'Bill', 'Emma', 'Emma', 'Emma', 'Bill', 'Emma', 'Emma', 'Emma', 'Emma', 'Emma', 'Emma', 'jeff', 'jeff', 'jeff', 'jeff', 'jeff', 'jeff', 'jeff', 'jeff', 'jeff', 'jeff', 'Johnny', 'Johnny', 'Johnny', 'Johnny', 'elon', 'Johnny', 'elon', 'Johnny', 'Johnny', 'Johnny', 'Keanu', 'Keanu', 'Keanu', 'Keanu', 'Keanu', 'Keanu', 'Keanu', 'Keanu', 'Keanu', 'Keanu', 'Mark', 'Mark', 'Mark', 'Mark', 'Mark', 'Mark', 'Mark', 'Mark', 'Mark', 'Mark', 'scarlett', 'scarlett', 'scarlett', 'scarlett', 'scarlett', 'scarlett', 'scarlett']\n",
      "['scarlett johansson15_3937.jpg', 'Emma Watson32_1991.jpg', 'Keanu Reeves12_1965.jpg', 'Johnny Depp20_1841.jpg', 'Bill Gates8_608.jpg', 'jeff bezos0_2040.jpg', 'Mark Zuckerberg5_2063.jpg', 'Chris Evans5_1235.jpg', 'Dwayne Johnson10_1558.jpg', 'elon musk11_1533.jpg'] [0.4410162227117383, 0.6506106484034442, 0.8378989798027697, 0.8681047522364572, 0.9287375219419979, 0.9307462523721984, 0.9392170830005399, 0.960255159539105, 0.9817099502037137, 0.9824640862867917]\n",
      "['Bill', 'Emma', 'Bill', 'Bill', 'Bill', 'Bill', 'Bill', 'Bill', 'Bill', 'Bill', 'Chris', 'Chris', 'Chris', 'Chris', 'Chris', 'Chris', 'Chris', 'Chris', 'Johnny', 'Chris', 'Dwayne', 'Dwayne', 'Dwayne', 'Dwayne', 'Dwayne', 'Dwayne', 'Dwayne', 'Dwayne', 'Dwayne', 'Dwayne', 'elon', 'elon', 'elon', 'elon', 'elon', 'elon', 'elon', 'elon', 'elon', 'Bill', 'Emma', 'Emma', 'Emma', 'Bill', 'Emma', 'Emma', 'Emma', 'Emma', 'Emma', 'Emma', 'jeff', 'jeff', 'jeff', 'jeff', 'jeff', 'jeff', 'jeff', 'jeff', 'jeff', 'jeff', 'Johnny', 'Johnny', 'Johnny', 'Johnny', 'elon', 'Johnny', 'elon', 'Johnny', 'Johnny', 'Johnny', 'Keanu', 'Keanu', 'Keanu', 'Keanu', 'Keanu', 'Keanu', 'Keanu', 'Keanu', 'Keanu', 'Keanu', 'Mark', 'Mark', 'Mark', 'Mark', 'Mark', 'Mark', 'Mark', 'Mark', 'Mark', 'Mark', 'scarlett', 'scarlett', 'scarlett', 'scarlett', 'scarlett', 'scarlett', 'scarlett', 'scarlett']\n",
      "['scarlett johansson15_3937.jpg', 'Emma Watson32_1991.jpg', 'Keanu Reeves12_1965.jpg', 'Johnny Depp20_1841.jpg', 'Bill Gates8_608.jpg', 'Mark Zuckerberg5_2063.jpg', 'jeff bezos0_2040.jpg', 'Chris Evans5_1235.jpg', 'elon musk11_1533.jpg', 'Dwayne Johnson10_1558.jpg'] [0.41253521423818434, 0.6742756389412542, 0.8767561513550509, 0.9025201256869085, 0.9297605334223248, 0.9486426409908824, 0.9612936806264049, 0.9637195606664071, 0.9707231549926673, 0.978643580247275]\n",
      "['Bill', 'Emma', 'Bill', 'Bill', 'Bill', 'Bill', 'Bill', 'Bill', 'Bill', 'Bill', 'Chris', 'Chris', 'Chris', 'Chris', 'Chris', 'Chris', 'Chris', 'Chris', 'Johnny', 'Chris', 'Dwayne', 'Dwayne', 'Dwayne', 'Dwayne', 'Dwayne', 'Dwayne', 'Dwayne', 'Dwayne', 'Dwayne', 'Dwayne', 'elon', 'elon', 'elon', 'elon', 'elon', 'elon', 'elon', 'elon', 'elon', 'Bill', 'Emma', 'Emma', 'Emma', 'Bill', 'Emma', 'Emma', 'Emma', 'Emma', 'Emma', 'Emma', 'jeff', 'jeff', 'jeff', 'jeff', 'jeff', 'jeff', 'jeff', 'jeff', 'jeff', 'jeff', 'Johnny', 'Johnny', 'Johnny', 'Johnny', 'elon', 'Johnny', 'elon', 'Johnny', 'Johnny', 'Johnny', 'Keanu', 'Keanu', 'Keanu', 'Keanu', 'Keanu', 'Keanu', 'Keanu', 'Keanu', 'Keanu', 'Keanu', 'Mark', 'Mark', 'Mark', 'Mark', 'Mark', 'Mark', 'Mark', 'Mark', 'Mark', 'Mark', 'scarlett', 'scarlett', 'scarlett', 'scarlett', 'scarlett', 'scarlett', 'scarlett', 'scarlett', 'scarlett']\n",
      "['Emma Watson32_1991.jpg', 'scarlett johansson15_3937.jpg', 'Keanu Reeves12_1965.jpg', 'Johnny Depp20_1841.jpg', 'Bill Gates8_608.jpg', 'elon musk11_1533.jpg', 'Mark Zuckerberg5_2063.jpg', 'jeff bezos0_2040.jpg', 'Dwayne Johnson10_1558.jpg', 'Chris Evans5_1235.jpg'] [0.5904771460676503, 0.6042483857016865, 0.7687424218904777, 0.81289378544528, 0.8799653113980642, 0.8860772453077922, 0.9085198991111484, 0.9190480352803231, 0.9257783297898361, 0.9666530064940863]\n",
      "['Bill', 'Emma', 'Bill', 'Bill', 'Bill', 'Bill', 'Bill', 'Bill', 'Bill', 'Bill', 'Chris', 'Chris', 'Chris', 'Chris', 'Chris', 'Chris', 'Chris', 'Chris', 'Johnny', 'Chris', 'Dwayne', 'Dwayne', 'Dwayne', 'Dwayne', 'Dwayne', 'Dwayne', 'Dwayne', 'Dwayne', 'Dwayne', 'Dwayne', 'elon', 'elon', 'elon', 'elon', 'elon', 'elon', 'elon', 'elon', 'elon', 'Bill', 'Emma', 'Emma', 'Emma', 'Bill', 'Emma', 'Emma', 'Emma', 'Emma', 'Emma', 'Emma', 'jeff', 'jeff', 'jeff', 'jeff', 'jeff', 'jeff', 'jeff', 'jeff', 'jeff', 'jeff', 'Johnny', 'Johnny', 'Johnny', 'Johnny', 'elon', 'Johnny', 'elon', 'Johnny', 'Johnny', 'Johnny', 'Keanu', 'Keanu', 'Keanu', 'Keanu', 'Keanu', 'Keanu', 'Keanu', 'Keanu', 'Keanu', 'Keanu', 'Mark', 'Mark', 'Mark', 'Mark', 'Mark', 'Mark', 'Mark', 'Mark', 'Mark', 'Mark', 'scarlett', 'scarlett', 'scarlett', 'scarlett', 'scarlett', 'scarlett', 'scarlett', 'scarlett', 'scarlett', 'Emma']\n"
     ]
    }
   ],
   "source": [
    "result_name = predict(\"test/\")"
   ]
  },
  {
   "cell_type": "code",
   "execution_count": null,
   "metadata": {},
   "outputs": [],
   "source": [
    "# print(result_name)\n",
    "# print(len(name_list))"
   ]
  },
  {
   "cell_type": "code",
   "execution_count": null,
   "metadata": {},
   "outputs": [
    {
     "name": "stdout",
     "output_type": "stream",
     "text": [
      "Bill\n"
     ]
    }
   ],
   "source": [
    "name_list = os.listdir(\"test\")\n",
    "name_list_split = [i.split(' ') for i in name_list]\n",
    "print(name_list_split[2][0])"
   ]
  },
  {
   "cell_type": "code",
   "execution_count": null,
   "metadata": {},
   "outputs": [],
   "source": [
    "correct = 0\n",
    "all = len(name_list)\n",
    "for i in range(len(name_list)):\n",
    "    if result_name[i]==name_list_split[i][0]:\n",
    "        correct = correct + 1"
   ]
  },
  {
   "cell_type": "code",
   "execution_count": null,
   "metadata": {},
   "outputs": [
    {
     "name": "stdout",
     "output_type": "stream",
     "text": [
      "Accuracy:  93.0 %\n"
     ]
    }
   ],
   "source": [
    "print(\"Accuracy: \",correct*100/all,\"%\")"
   ]
  },
  {
   "cell_type": "markdown",
   "metadata": {},
   "source": [
    "## Test with Low Resolution images"
   ]
  },
  {
   "cell_type": "code",
   "execution_count": null,
   "metadata": {},
   "outputs": [
    {
     "name": "stdout",
     "output_type": "stream",
     "text": [
      "['Keanu Reeves12_1965.jpg', 'Chris Evans5_1235.jpg', 'Johnny Depp20_1841.jpg', 'jeff bezos0_2040.jpg', 'Bill Gates8_608.jpg', 'elon musk11_1533.jpg', 'Dwayne Johnson10_1558.jpg', 'Mark Zuckerberg5_2063.jpg', 'Emma Watson32_1991.jpg', 'scarlett johansson15_3937.jpg'] [0.5880569212961307, 0.6141363602838806, 0.6482607708488015, 0.7136106089529406, 0.7241552797083549, 0.7501041050869502, 0.7570534010580506, 0.8081175291711697, 0.8446458110306755, 0.8978081789179361]\n",
      "['Keanu']\n",
      "['Keanu Reeves12_1965.jpg', 'Chris Evans5_1235.jpg', 'Dwayne Johnson10_1558.jpg', 'Johnny Depp20_1841.jpg', 'jeff bezos0_2040.jpg', 'elon musk11_1533.jpg', 'Mark Zuckerberg5_2063.jpg', 'Bill Gates8_608.jpg', 'Emma Watson32_1991.jpg', 'scarlett johansson15_3937.jpg'] [0.6385901371185561, 0.6731996676638603, 0.7098485138908056, 0.7257514648920957, 0.7343892710365694, 0.7381713955800422, 0.7768070712788547, 0.7880971845938529, 0.8739451804853503, 0.8942306374447062]\n",
      "['Keanu', 'Keanu']\n",
      "['Chris Evans5_1235.jpg', 'Johnny Depp20_1841.jpg', 'Keanu Reeves12_1965.jpg', 'elon musk11_1533.jpg', 'jeff bezos0_2040.jpg', 'Dwayne Johnson10_1558.jpg', 'Emma Watson32_1991.jpg', 'Bill Gates8_608.jpg', 'Mark Zuckerberg5_2063.jpg', 'scarlett johansson15_3937.jpg'] [0.40196086979663026, 0.6290406496643203, 0.670815128909163, 0.7300463866310071, 0.7345850812526752, 0.7642037418851257, 0.7816959002269722, 0.7861468376036791, 0.7915465419735642, 0.8848335341748704]\n",
      "['Keanu', 'Keanu', 'Chris']\n",
      "['Chris Evans5_1235.jpg', 'Johnny Depp20_1841.jpg', 'Keanu Reeves12_1965.jpg', 'Bill Gates8_608.jpg', 'Dwayne Johnson10_1558.jpg', 'jeff bezos0_2040.jpg', 'elon musk11_1533.jpg', 'Mark Zuckerberg5_2063.jpg', 'Emma Watson32_1991.jpg', 'scarlett johansson15_3937.jpg'] [0.4215623346814388, 0.6645496573214823, 0.7083396418457396, 0.7445617445078687, 0.7487036429564762, 0.7545829501769501, 0.7676606910429653, 0.7818130255083872, 0.78735789390092, 0.9236845138406204]\n",
      "['Keanu', 'Keanu', 'Chris', 'Chris']\n",
      "['Chris Evans5_1235.jpg', 'Johnny Depp20_1841.jpg', 'Keanu Reeves12_1965.jpg', 'Bill Gates8_608.jpg', 'Dwayne Johnson10_1558.jpg', 'elon musk11_1533.jpg', 'jeff bezos0_2040.jpg', 'Mark Zuckerberg5_2063.jpg', 'Emma Watson32_1991.jpg', 'scarlett johansson15_3937.jpg'] [0.5221191410810767, 0.6204073538866297, 0.6490579204259053, 0.6946666380100405, 0.7229268453822626, 0.7617267042149446, 0.7621400180294251, 0.7732096500704937, 0.8085563737755087, 0.9172743322002379]\n",
      "['Keanu', 'Keanu', 'Chris', 'Chris', 'Chris']\n",
      "['jeff bezos0_2040.jpg', 'Chris Evans5_1235.jpg', 'Mark Zuckerberg5_2063.jpg', 'Keanu Reeves12_1965.jpg', 'Dwayne Johnson10_1558.jpg', 'Bill Gates8_608.jpg', 'Johnny Depp20_1841.jpg', 'elon musk11_1533.jpg', 'Emma Watson32_1991.jpg', 'scarlett johansson15_3937.jpg'] [0.6778346525874119, 0.6790177291038466, 0.6902390903272981, 0.7073326019902527, 0.7297902571867599, 0.7953768732812698, 0.8078371770983179, 0.849931265148075, 0.922615323784047, 0.9398159174977343]\n",
      "['Keanu', 'Keanu', 'Chris', 'Chris', 'Chris', 'jeff']\n",
      "['Chris Evans5_1235.jpg', 'Johnny Depp20_1841.jpg', 'Keanu Reeves12_1965.jpg', 'Dwayne Johnson10_1558.jpg', 'Mark Zuckerberg5_2063.jpg', 'jeff bezos0_2040.jpg', 'elon musk11_1533.jpg', 'Bill Gates8_608.jpg', 'Emma Watson32_1991.jpg', 'scarlett johansson15_3937.jpg'] [0.4910523256769462, 0.6279523704122096, 0.7065969316630313, 0.7487631645468155, 0.7507652591308681, 0.7558009321292203, 0.7653600237243717, 0.7738793583749292, 0.81620242284343, 0.9177654257228367]\n",
      "['Keanu', 'Keanu', 'Chris', 'Chris', 'Chris', 'jeff', 'Chris']\n",
      "['Chris Evans5_1235.jpg', 'Johnny Depp20_1841.jpg', 'jeff bezos0_2040.jpg', 'Dwayne Johnson10_1558.jpg', 'Bill Gates8_608.jpg', 'Keanu Reeves12_1965.jpg', 'Mark Zuckerberg5_2063.jpg', 'elon musk11_1533.jpg', 'Emma Watson32_1991.jpg', 'scarlett johansson15_3937.jpg'] [0.5206531805593476, 0.696272967902424, 0.6967500047120245, 0.7156974449850001, 0.7493137672431943, 0.7624759302040133, 0.7625322447022782, 0.7889028459336912, 0.8428217491420588, 0.9184554972404753]\n",
      "['Keanu', 'Keanu', 'Chris', 'Chris', 'Chris', 'jeff', 'Chris', 'Chris']\n",
      "['Johnny Depp20_1841.jpg', 'Bill Gates8_608.jpg', 'Chris Evans5_1235.jpg', 'elon musk11_1533.jpg', 'Keanu Reeves12_1965.jpg', 'Dwayne Johnson10_1558.jpg', 'jeff bezos0_2040.jpg', 'scarlett johansson15_3937.jpg', 'Emma Watson32_1991.jpg', 'Mark Zuckerberg5_2063.jpg'] [0.6163465253318849, 0.6917176948730414, 0.692305616932828, 0.7164962652722594, 0.7202448690881524, 0.724650016644091, 0.7265940704881584, 0.736057036138797, 0.7393957662655221, 0.7646002190325527]\n",
      "['Keanu', 'Keanu', 'Chris', 'Chris', 'Chris', 'jeff', 'Chris', 'Chris', 'Johnny']\n",
      "['Chris Evans5_1235.jpg', 'Johnny Depp20_1841.jpg', 'elon musk11_1533.jpg', 'Keanu Reeves12_1965.jpg', 'jeff bezos0_2040.jpg', 'Bill Gates8_608.jpg', 'Dwayne Johnson10_1558.jpg', 'Emma Watson32_1991.jpg', 'Mark Zuckerberg5_2063.jpg', 'scarlett johansson15_3937.jpg'] [0.48966247464492346, 0.6236622201912675, 0.704931931523503, 0.7411277541775251, 0.7739683710353987, 0.8123309849062419, 0.8276390915149733, 0.8390677940012641, 0.9189889315345757, 0.943003717134817]\n",
      "['Keanu', 'Keanu', 'Chris', 'Chris', 'Chris', 'jeff', 'Chris', 'Chris', 'Johnny', 'Chris']\n",
      "['Chris Evans5_1235.jpg', 'Johnny Depp20_1841.jpg', 'Keanu Reeves12_1965.jpg', 'Bill Gates8_608.jpg', 'jeff bezos0_2040.jpg', 'elon musk11_1533.jpg', 'Dwayne Johnson10_1558.jpg', 'Emma Watson32_1991.jpg', 'Mark Zuckerberg5_2063.jpg', 'scarlett johansson15_3937.jpg'] [0.46242637633411615, 0.6513355081541333, 0.6559099463300017, 0.7291741342897463, 0.7510095803406296, 0.7532019209574784, 0.7607068424130197, 0.801365335628909, 0.847916852119284, 0.8862512037410377]\n",
      "['Keanu', 'Keanu', 'Chris', 'Chris', 'Chris', 'jeff', 'Chris', 'Chris', 'Johnny', 'Chris', 'Chris']\n",
      "['Chris Evans5_1235.jpg', 'Johnny Depp20_1841.jpg', 'Keanu Reeves12_1965.jpg', 'jeff bezos0_2040.jpg', 'Dwayne Johnson10_1558.jpg', 'Bill Gates8_608.jpg', 'Mark Zuckerberg5_2063.jpg', 'elon musk11_1533.jpg', 'Emma Watson32_1991.jpg', 'scarlett johansson15_3937.jpg'] [0.4968462299841582, 0.6570136800801673, 0.6889238214848746, 0.7285337184734539, 0.735916723550323, 0.7363614804618925, 0.7837445655825553, 0.7954568170799253, 0.8292531444021581, 0.948932555854558]\n",
      "['Keanu', 'Keanu', 'Chris', 'Chris', 'Chris', 'jeff', 'Chris', 'Chris', 'Johnny', 'Chris', 'Chris', 'Chris']\n",
      "['Chris Evans5_1235.jpg', 'Johnny Depp20_1841.jpg', 'Dwayne Johnson10_1558.jpg', 'jeff bezos0_2040.jpg', 'Bill Gates8_608.jpg', 'Keanu Reeves12_1965.jpg', 'elon musk11_1533.jpg', 'Mark Zuckerberg5_2063.jpg', 'scarlett johansson15_3937.jpg', 'Emma Watson32_1991.jpg'] [0.6425573759778699, 0.6583994083265816, 0.6608446334596808, 0.6903392625538051, 0.6976367114942648, 0.7022107491068365, 0.7233110922584052, 0.797570006191884, 0.8291875389809189, 0.8294036320069104]\n",
      "['Keanu', 'Keanu', 'Chris', 'Chris', 'Chris', 'jeff', 'Chris', 'Chris', 'Johnny', 'Chris', 'Chris', 'Chris', 'Chris']\n",
      "['Chris Evans5_1235.jpg', 'Johnny Depp20_1841.jpg', 'jeff bezos0_2040.jpg', 'Bill Gates8_608.jpg', 'elon musk11_1533.jpg', 'Emma Watson32_1991.jpg', 'Keanu Reeves12_1965.jpg', 'Dwayne Johnson10_1558.jpg', 'Mark Zuckerberg5_2063.jpg', 'scarlett johansson15_3937.jpg'] [0.512182946631124, 0.5886469308867884, 0.7234954909136233, 0.7353345987003338, 0.7435709722234777, 0.7639939083145958, 0.7839672873794309, 0.7932410180575671, 0.8656904049158437, 0.9001836483007609]\n",
      "['Keanu', 'Keanu', 'Chris', 'Chris', 'Chris', 'jeff', 'Chris', 'Chris', 'Johnny', 'Chris', 'Chris', 'Chris', 'Chris', 'Chris']\n",
      "['Chris Evans5_1235.jpg', 'Johnny Depp20_1841.jpg', 'Bill Gates8_608.jpg', 'elon musk11_1533.jpg', 'jeff bezos0_2040.jpg', 'Keanu Reeves12_1965.jpg', 'Mark Zuckerberg5_2063.jpg', 'Dwayne Johnson10_1558.jpg', 'Emma Watson32_1991.jpg', 'scarlett johansson15_3937.jpg'] [0.5367706777374719, 0.663042523719951, 0.7305918675128237, 0.7442676903634275, 0.7638535842597927, 0.7674884476741924, 0.8233516728503456, 0.8382399322839102, 0.8805366780206233, 0.9698799504124149]\n",
      "['Keanu', 'Keanu', 'Chris', 'Chris', 'Chris', 'jeff', 'Chris', 'Chris', 'Johnny', 'Chris', 'Chris', 'Chris', 'Chris', 'Chris', 'Chris']\n",
      "['Chris Evans5_1235.jpg', 'Johnny Depp20_1841.jpg', 'elon musk11_1533.jpg', 'jeff bezos0_2040.jpg', 'Keanu Reeves12_1965.jpg', 'Bill Gates8_608.jpg', 'Dwayne Johnson10_1558.jpg', 'Emma Watson32_1991.jpg', 'Mark Zuckerberg5_2063.jpg', 'scarlett johansson15_3937.jpg'] [0.5567122804221186, 0.6489902445040017, 0.6855561610488271, 0.7178787193727063, 0.7311778118380386, 0.7357223011650792, 0.742576673389275, 0.8288917174100008, 0.8329563915265829, 0.9499467859832368]\n",
      "['Keanu', 'Keanu', 'Chris', 'Chris', 'Chris', 'jeff', 'Chris', 'Chris', 'Johnny', 'Chris', 'Chris', 'Chris', 'Chris', 'Chris', 'Chris', 'Chris']\n",
      "['Chris Evans5_1235.jpg', 'Johnny Depp20_1841.jpg', 'Keanu Reeves12_1965.jpg', 'Bill Gates8_608.jpg', 'jeff bezos0_2040.jpg', 'elon musk11_1533.jpg', 'Mark Zuckerberg5_2063.jpg', 'Dwayne Johnson10_1558.jpg', 'Emma Watson32_1991.jpg', 'scarlett johansson15_3937.jpg'] [0.5815671435800951, 0.6232137042747974, 0.6574421567903003, 0.6649769662091962, 0.7089066195581718, 0.7198903414222114, 0.7649433850344266, 0.7689166053733324, 0.8488653544723782, 0.9574468417697235]\n",
      "['Keanu', 'Keanu', 'Chris', 'Chris', 'Chris', 'jeff', 'Chris', 'Chris', 'Johnny', 'Chris', 'Chris', 'Chris', 'Chris', 'Chris', 'Chris', 'Chris', 'Chris']\n",
      "['Chris Evans5_1235.jpg', 'Johnny Depp20_1841.jpg', 'Keanu Reeves12_1965.jpg', 'jeff bezos0_2040.jpg', 'Emma Watson32_1991.jpg', 'elon musk11_1533.jpg', 'Dwayne Johnson10_1558.jpg', 'Mark Zuckerberg5_2063.jpg', 'Bill Gates8_608.jpg', 'scarlett johansson15_3937.jpg'] [0.4857284997554149, 0.6670747833021222, 0.7240941650919652, 0.7328175989675937, 0.7878314708270808, 0.7946866038131537, 0.8334246397771369, 0.8449348309819016, 0.8545296287117832, 0.900033355800611]\n",
      "['Keanu', 'Keanu', 'Chris', 'Chris', 'Chris', 'jeff', 'Chris', 'Chris', 'Johnny', 'Chris', 'Chris', 'Chris', 'Chris', 'Chris', 'Chris', 'Chris', 'Chris', 'Chris']\n",
      "['Chris Evans5_1235.jpg', 'Johnny Depp20_1841.jpg', 'Keanu Reeves12_1965.jpg', 'jeff bezos0_2040.jpg', 'elon musk11_1533.jpg', 'Dwayne Johnson10_1558.jpg', 'Mark Zuckerberg5_2063.jpg', 'Bill Gates8_608.jpg', 'Emma Watson32_1991.jpg', 'scarlett johansson15_3937.jpg'] [0.5344233422305678, 0.6069258083186152, 0.6563261060681732, 0.7522790912525084, 0.7532171532797177, 0.7881037731040824, 0.806113695171635, 0.8186182568143252, 0.8325175099628199, 0.8577736115004815]\n",
      "['Keanu', 'Keanu', 'Chris', 'Chris', 'Chris', 'jeff', 'Chris', 'Chris', 'Johnny', 'Chris', 'Chris', 'Chris', 'Chris', 'Chris', 'Chris', 'Chris', 'Chris', 'Chris', 'Chris']\n",
      "['Chris Evans5_1235.jpg', 'Bill Gates8_608.jpg', 'Johnny Depp20_1841.jpg', 'Keanu Reeves12_1965.jpg', 'jeff bezos0_2040.jpg', 'Mark Zuckerberg5_2063.jpg', 'elon musk11_1533.jpg', 'Dwayne Johnson10_1558.jpg', 'Emma Watson32_1991.jpg', 'scarlett johansson15_3937.jpg'] [0.5355843909375714, 0.6897961498779706, 0.6991116722707394, 0.7019410659338178, 0.7514603828882709, 0.7602793455328383, 0.7686327531069282, 0.7712245365034939, 0.8858507614317827, 0.9404006383873625]\n",
      "['Keanu', 'Keanu', 'Chris', 'Chris', 'Chris', 'jeff', 'Chris', 'Chris', 'Johnny', 'Chris', 'Chris', 'Chris', 'Chris', 'Chris', 'Chris', 'Chris', 'Chris', 'Chris', 'Chris', 'Chris']\n"
     ]
    }
   ],
   "source": [
    "result_name = predict(\"test_LR/pins_Chris Evans\")"
   ]
  },
  {
   "cell_type": "code",
   "execution_count": null,
   "metadata": {},
   "outputs": [
    {
     "name": "stdout",
     "output_type": "stream",
     "text": [
      "Chris\n"
     ]
    }
   ],
   "source": [
    "name_list = os.listdir(\"test_LR/pins_Chris Evans\")\n",
    "name_list_split = [i.split(' ') for i in name_list]\n",
    "print(name_list_split[2][0])"
   ]
  },
  {
   "cell_type": "code",
   "execution_count": null,
   "metadata": {},
   "outputs": [],
   "source": [
    "correct = 0\n",
    "all = len(name_list)\n",
    "for i in range(len(name_list)):\n",
    "    if result_name[i]==name_list_split[i][0]:\n",
    "        correct = correct + 1"
   ]
  },
  {
   "cell_type": "code",
   "execution_count": null,
   "metadata": {},
   "outputs": [
    {
     "name": "stdout",
     "output_type": "stream",
     "text": [
      "Accuracy:  80.0 %\n"
     ]
    }
   ],
   "source": [
    "print(\"Accuracy: \",correct*100/all,\"%\")"
   ]
  }
 ],
 "metadata": {
  "interpreter": {
   "hash": "0ea266fb49e16d654e13fe0042c38ca5c2f386a61cf584105053315de3903c84"
  },
  "kernelspec": {
   "display_name": "Python 3.8.3 64-bit",
   "name": "python3"
  },
  "language_info": {
   "codemirror_mode": {
    "name": "ipython",
    "version": 3
   },
   "file_extension": ".py",
   "mimetype": "text/x-python",
   "name": "python",
   "nbconvert_exporter": "python",
   "pygments_lexer": "ipython3",
   "version": "3.8.10"
  },
  "orig_nbformat": 4
 },
 "nbformat": 4,
 "nbformat_minor": 2
}
